{
 "cells": [
  {
   "cell_type": "code",
   "execution_count": 23,
   "metadata": {},
   "outputs": [],
   "source": [
    "from collections import Counter"
   ]
  },
  {
   "cell_type": "code",
   "execution_count": 47,
   "metadata": {},
   "outputs": [],
   "source": [
    "from collections import defaultdict, Counter \n",
    "\n",
    "class WordCorrector():\n",
    "    def __init__(self):\n",
    "        self.docs = []\n",
    "        self.cache = defaultdict(list)\n",
    "        self.build_cache()\n",
    "    \n",
    "    def build_cache(self):\n",
    "        \"\"\"\n",
    "        构建索引\n",
    "        \"\"\"\n",
    "        doc_id = 0\n",
    "        with open('words.txt', 'r') as f:\n",
    "            for word in f.readlines():\n",
    "                self.docs.append(word)\n",
    "                word = word.lower()\n",
    "                for i in range(len(word)-1):\n",
    "                    term = word[i:i+2]\n",
    "                    self.cache[term].append(doc_id)\n",
    "                doc_id += 1\n",
    "    \n",
    "    def correct(self, word, limit=5):\n",
    "        \"\"\"\n",
    "        在倒排索引里检索单词原型\n",
    "        \"\"\"\n",
    "        word = word.lower()\n",
    "        result_list = []\n",
    "        for i in range(len(word)-1):\n",
    "            term = word[i:i+2]\n",
    "            result_list += self.cache.get(term, [])\n",
    "        counter = 0\n",
    "        for item in Counter(result_list).most_common():\n",
    "            sim_word = self.docs[item[0]]\n",
    "            if len(sim_word) >= len(word) - 1 \\\n",
    "                and len(sim_word) <= len(word) + 1:\n",
    "                print(sim_word)\n",
    "                counter += 1\n",
    "                if counter > limit:\n",
    "                    break\n"
   ]
  },
  {
   "cell_type": "code",
   "execution_count": 48,
   "metadata": {},
   "outputs": [],
   "source": [
    "word_corrector = WordCorrector()"
   ]
  },
  {
   "cell_type": "code",
   "execution_count": 49,
   "metadata": {},
   "outputs": [
    {
     "name": "stdout",
     "output_type": "stream",
     "text": [
      "clove\n",
      "\n",
      "glove\n",
      "\n",
      "Love\n",
      "\n",
      "loved\n",
      "\n",
      "lovee\n",
      "\n",
      "lovey\n",
      "\n"
     ]
    }
   ],
   "source": [
    "word_corrector.correct('loove')"
   ]
  },
  {
   "cell_type": "code",
   "execution_count": 16,
   "metadata": {},
   "outputs": [
    {
     "data": {
      "text/plain": [
       "989"
      ]
     },
     "execution_count": 16,
     "metadata": {},
     "output_type": "execute_result"
    }
   ],
   "source": [
    "len(word_corrector.cache)"
   ]
  },
  {
   "cell_type": "code",
   "execution_count": 6,
   "metadata": {},
   "outputs": [
    {
     "name": "stdout",
     "output_type": "stream",
     "text": [
      "lo\n",
      "oo\n",
      "ov\n",
      "ve\n"
     ]
    }
   ],
   "source": [
    "word = 'loove'\n",
    "for i in range(len(word)-1):\n",
    "    print(word[i:i+2])"
   ]
  },
  {
   "cell_type": "code",
   "execution_count": 17,
   "metadata": {},
   "outputs": [
    {
     "data": {
      "text/plain": [
       "[1, 2, 3, 3, 4, 5]"
      ]
     },
     "execution_count": 17,
     "metadata": {},
     "output_type": "execute_result"
    }
   ],
   "source": [
    "[1,2,3] + [3,4,5]"
   ]
  },
  {
   "cell_type": "code",
   "execution_count": 27,
   "metadata": {},
   "outputs": [
    {
     "data": {
      "text/plain": [
       "[(3, 2), (1, 1), (2, 1)]"
      ]
     },
     "execution_count": 27,
     "metadata": {},
     "output_type": "execute_result"
    }
   ],
   "source": [
    "Counter([1,2,3,3]).most_common()"
   ]
  },
  {
   "cell_type": "code",
   "execution_count": null,
   "metadata": {},
   "outputs": [],
   "source": []
  }
 ],
 "metadata": {
  "kernelspec": {
   "display_name": "Python 3",
   "language": "python",
   "name": "python3"
  },
  "language_info": {
   "codemirror_mode": {
    "name": "ipython",
    "version": 3
   },
   "file_extension": ".py",
   "mimetype": "text/x-python",
   "name": "python",
   "nbconvert_exporter": "python",
   "pygments_lexer": "ipython3",
   "version": "3.8.2"
  }
 },
 "nbformat": 4,
 "nbformat_minor": 4
}
