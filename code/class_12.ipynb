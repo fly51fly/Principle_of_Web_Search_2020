{
 "cells": [
  {
   "cell_type": "code",
   "execution_count": 13,
   "metadata": {},
   "outputs": [],
   "source": [
    "import requests  \n",
    "from lxml import etree \n",
    "import pickle\n",
    "import os\n",
    "from IPython.core.display import display, HTML\n",
    "import timeit\n",
    "import jieba\n",
    "import math\n",
    "\n",
    "class MySearcherC12V0:\n",
    "    \"\"\"\n",
    "    第十一次课升级的搜索类版本：\n",
    "    改善文档频和文档长度加权的影响\n",
    "    改善IDF权值\n",
    "    采用BM25打分函数\n",
    "    \"\"\"\n",
    "    def __init__(self, scale=1):\n",
    "        self.docs = [] #所有文档原始数据\n",
    "        self.load_data()\n",
    "        self.docs *= scale #文档倍增\n",
    "        self.cache = {} #缓存(索引)\n",
    "        self.vocab = set() #缓存(索引)词表\n",
    "        self.lower_preprocess()\n",
    "        self.df = {}\n",
    "        self.avgdl = 0\n",
    "        self.build_cache() #构建缓存\n",
    "        jieba.load_userdict('dict.txt')\n",
    "    \n",
    "    def build_cache(self):\n",
    "        doc_id = 0\n",
    "        doc_length_sum = 0\n",
    "        for doc in self.docs:\n",
    "            doc_word_set = set()\n",
    "            doc_length_sum += len(doc[3])\n",
    "            for word in jieba.cut_for_search(\n",
    "                doc[3]\n",
    "            ):\n",
    "                if word not in doc_word_set:\n",
    "                    result_item = doc_id\n",
    "                    if word not in self.cache:\n",
    "                        self.cache[word] = set([result_item])\n",
    "                    else:\n",
    "                        self.cache[word].add(result_item)\n",
    "                    self.vocab.add(word)\n",
    "                    doc_word_set.add(word)\n",
    "                    \n",
    "                    if word in self.df:\n",
    "                        self.df[word] += 1\n",
    "                    else:\n",
    "                        self.df[word] = 1\n",
    "            doc_id += 1\n",
    "        self.avgdl = doc_length_sum / len(self.docs)\n",
    "    \n",
    "    def search(self, query):\n",
    "        result = None\n",
    "        for keyword in jieba.cut(query.lower()):\n",
    "            if keyword in self.cache:\n",
    "                if result is None:\n",
    "                    result = self.cache[keyword]\n",
    "                else:\n",
    "                    result = result & self.cache[keyword]\n",
    "            else:\n",
    "                result = set([])\n",
    "                break\n",
    "                \n",
    "        if result is None:\n",
    "            result = set([])\n",
    "        \n",
    "        sorted_result = self.rank(query, result)\n",
    "        return sorted_result\n",
    "                    \n",
    "    def lower_preprocess(self):\n",
    "        for doc_id in range(len(self.docs)):\n",
    "            self.docs[doc_id].append(\n",
    "                (self.docs[doc_id][1] \n",
    "                 + ' ' \n",
    "                 + self.docs[doc_id][2]).lower()\n",
    "            )\n",
    "    \n",
    "    def simple_test(self):\n",
    "        assert(len(self.search('tiktok')) > 1)\n",
    "    \n",
    "    def load_data(self):\n",
    "        data_filename = 'news_list.dat'\n",
    "        if os.path.exists(data_filename):\n",
    "            with open(data_filename,'rb') as f:\n",
    "                self.docs += pickle.load(f)\n",
    "#                 self.docs = self.docs + pickle.load(f)\n",
    "        else:\n",
    "            url = 'http://news.163.com/special/0001386F/rank_tech.html'  \n",
    "            headers = {'user-agent': 'Mozilla/5.0 (Windows NT 10.0; Win64; x64) AppleWebKit/537.36 (KHTML, like Gecko) Chrome/85.0.4183.121 Safari/537.36 Edg/85.0.564.63'}\n",
    "            r = requests.get(url, headers=headers)  \n",
    "            sel = etree.HTML(r.text) \n",
    "            link_set = set()\n",
    "            news_list = []\n",
    "            count = 0\n",
    "            for item in sel.xpath('//td/a'):  \n",
    "                title = item.text\n",
    "                link = item.attrib['href']\n",
    "                if link not in link_set:\n",
    "                    r = requests.get(link, headers=headers)  \n",
    "                    sel = etree.HTML(r.text)  \n",
    "                    text_block = sel.xpath('//div[@id=\"endText\"]') \n",
    "                    if text_block:\n",
    "                        content = ''.join(text_block[0].xpath('./p/text()'))\n",
    "                        title = sel.xpath('//h1/text()')[0]\n",
    "                        self.docs.append([link, title, content])\n",
    "                    link_set.add(link)\n",
    "                count += 1\n",
    "                if count % 15 == 0:\n",
    "                    print(count, 'processed.')\n",
    "            with open(data_filename,'wb') as f:\n",
    "                pickle.dump(self.docs, f)\n",
    "    \n",
    "    def highlight(self, item, query, sidelen=12):\n",
    "        result = ''\n",
    "        positions = []\n",
    "        content_lower = item[2].lower()\n",
    "        word_start_map = []\n",
    "        word_end_map = []\n",
    "        last_word_end = -1\n",
    "        query_words = list(jieba.cut(query))\n",
    "        for keyword in query_words:\n",
    "            idx = content_lower.find(keyword.lower())\n",
    "            positions.append(idx)\n",
    "\n",
    "        for keyword in jieba.cut(content_lower):\n",
    "            cur_word_start = last_word_end + 1\n",
    "            cur_word_end = cur_word_start + len(keyword) - 1\n",
    "            for i in range(cur_word_start, cur_word_end + 1):\n",
    "                word_start_map.append(cur_word_start)\n",
    "                word_end_map.append(cur_word_end)\n",
    "            last_word_end = cur_word_end\n",
    "\n",
    "        positions.sort()\n",
    "        segments = []\n",
    "        i = 0\n",
    "        while i < len(positions):\n",
    "            start_pos = max(positions[i] - sidelen, 0)\n",
    "            end_pos = min(positions[i] + sidelen, len(content_lower) - 1)\n",
    "            while (i < len(positions) - 1 \n",
    "                and positions[i+1] - positions[i] <= 2 * sidelen):\n",
    "                end_pos = min(positions[i+1] + sidelen, len(content_lower) - 1)\n",
    "                i += 1  \n",
    "            start_ddd = '...' if start_pos > 0 else ''\n",
    "            end_ddd = '...' if end_pos < len(content_lower) else ''\n",
    "            segments.append(start_ddd \n",
    "                            + item[2][word_start_map[start_pos]:word_end_map[end_pos] + 1]\n",
    "                            + end_ddd)\n",
    "            i += 1\n",
    "        \n",
    "        result = text = item[1] + '<br/>' + ''.join(segments)\n",
    "        text_lower = text.lower()\n",
    "        for keyword in query_words:\n",
    "            idx = text_lower.find(keyword.lower())\n",
    "            if idx >= 0:\n",
    "                ori_word = text[idx:idx+(len(keyword))]\n",
    "                result = result.replace(ori_word, '<span style=\"color:red\";>{}</span>'.format(ori_word))\n",
    "        return result\n",
    "    \n",
    "    def render_search_result(self, query):\n",
    "        count = 0\n",
    "        for item in self.search(query)[:10]:\n",
    "            count += 1\n",
    "            display(HTML('{} [{}] {}'.format(count, item[1], \n",
    "                self.highlight(self.docs[item[0]], query))))\n",
    "    \n",
    "    def rank(self, query, result_set):\n",
    "        result = []\n",
    "        for doc_id in result_set:\n",
    "            result.append([doc_id, \n",
    "                self.score(self.docs[doc_id],\n",
    "                          query)])\n",
    "        result.sort(key=lambda x: x[1], reverse=True)\n",
    "        return result       \n",
    "    \n",
    "    def score(self, item, query, k1=2, b=0.75):\n",
    "        score = 0\n",
    "        #todo cut\n",
    "        for keyword in jieba.cut(query):\n",
    "            f = item[2].lower().count(keyword.lower())\n",
    "            dl = len(item[2])\n",
    "            tf = f * (k1 + 1) / (f + k1 * (1 - b + b * (dl / self.avgdl)))\n",
    "            idf = math.log10((len(self.docs) - self.df[keyword] + 0.5 / (0.5 + self.df[keyword])))\n",
    "            score += tf * idf\n",
    "        return score"
   ]
  },
  {
   "cell_type": "code",
   "execution_count": 14,
   "metadata": {},
   "outputs": [],
   "source": [
    "searcherv0 = MySearcherC12V0()"
   ]
  },
  {
   "cell_type": "code",
   "execution_count": 15,
   "metadata": {},
   "outputs": [
    {
     "data": {
      "text/html": [
       "1 [12.254200438801014] 日媒拆解<span style=\"color:red\";>华为</span> 5G <span style=\"color:red\";>基站</span>：美国零部件占 3 成<br/>...   （原标题：日媒拆解<span style=\"color:red\";>华为</span> 5G <span style=\"color:red\";>基站</span>：美国零部件占 3 成..."
      ],
      "text/plain": [
       "<IPython.core.display.HTML object>"
      ]
     },
     "metadata": {},
     "output_type": "display_data"
    },
    {
     "data": {
      "text/html": [
       "2 [12.174738654725353] 日媒拆解<span style=\"color:red\";>华为</span>5G<span style=\"color:red\";>基站</span>：中企零部件约占一半 美零部件占3成<br/>...   （原标题：日媒拆解<span style=\"color:red\";>华为</span>5G<span style=\"color:red\";>基站</span>：中企设计零部件约占一半..."
      ],
      "text/plain": [
       "<IPython.core.display.HTML object>"
      ]
     },
     "metadata": {},
     "output_type": "display_data"
    },
    {
     "data": {
      "text/html": [
       "3 [9.82543559335457] 传台积电获批，可以继续向<span style=\"color:red\";>华为</span>供货，但不含手机SoC<br/>...积电许可证获批，将继续向<span style=\"color:red\";>华为</span>供应部分产品）\n",
       "   ......，但如果手机处理器芯片和<span style=\"color:red\";>基站</span>芯片等问题不能得到解决..."
      ],
      "text/plain": [
       "<IPython.core.display.HTML object>"
      ]
     },
     "metadata": {},
     "output_type": "display_data"
    },
    {
     "data": {
      "text/html": [
       "4 [9.560766520947055] 中兴称5G<span style=\"color:red\";>基站</span>芯片实现商用，禁运时自给率几乎为零<br/>...  （原标题：中兴称5G<span style=\"color:red\";>基站</span>7nm芯片实现商用，禁运......全球5G核心专利12%，<span style=\"color:red\";>华为</span>目前占比18%。招商证券..."
      ],
      "text/plain": [
       "<IPython.core.display.HTML object>"
      ]
     },
     "metadata": {},
     "output_type": "display_data"
    },
    {
     "data": {
      "text/html": [
       "5 [7.656446297934792] 国内第四大运营商中国广电在京成立 将发行5G192号段<br/>...小汤山等地试点建设了部分5G<span style=\"color:red\";>基站</span>，并进行了相关测试工作......。不仅如此，歌华有线还与<span style=\"color:red\";>华为</span>和中兴签约，后期将在5G..."
      ],
      "text/plain": [
       "<IPython.core.display.HTML object>"
      ]
     },
     "metadata": {},
     "output_type": "display_data"
    },
    {
     "data": {
      "text/html": [
       "6 [7.656446297934792] 国内第四大运营商中国广电在京成立 将发行5G192号段<br/>...小汤山等地试点建设了部分5G<span style=\"color:red\";>基站</span>，并进行了相关测试工作......。不仅如此，歌华有线还与<span style=\"color:red\";>华为</span>和中兴签约，后期将在5G..."
      ],
      "text/plain": [
       "<IPython.core.display.HTML object>"
      ]
     },
     "metadata": {},
     "output_type": "display_data"
    },
    {
     "data": {
      "text/html": [
       "7 [7.144057199282708] 北邮乔秀全：5G的消费级杀手应用可能诞生于XR设备<br/>...情况其实各方早有预料。“<span style=\"color:red\";>华为</span>早早就开始各种备胎计划......成本都比4G高，因为5G<span style=\"color:red\";>基站</span>覆盖的范围比4G<span style=\"color:red\";>基站</span>小..."
      ],
      "text/plain": [
       "<IPython.core.display.HTML object>"
      ]
     },
     "metadata": {},
     "output_type": "display_data"
    }
   ],
   "source": [
    "searcherv0.render_search_result('华为基站')"
   ]
  },
  {
   "cell_type": "code",
   "execution_count": 11,
   "metadata": {},
   "outputs": [
    {
     "name": "stdout",
     "output_type": "stream",
     "text": [
      "({0, 3, 133, 134, 143, 146, 150, 23, 26, 158, 34, 165, 41, 50, 52, 53, 180, 57, 58, 185, 63, 193, 66, 77, 80, 83, 227, 231, 104, 108, 114, 122, 123}|{256, 1, 3, 4, 133, 6, 7, 134, 9, 265, 267, 12, 13, 141, 142, 16, 271, 23, 151, 279, 28, 29, 157, 32, 33, 34, 39, 168, 42, 170, 53, 182, 55, 56, 187, 60, 61, 190, 63, 69, 197, 73, 74, 81, 210, 83, 254, 215, 89, 220, 98, 231, 238, 113, 246, 247, 124, 126, 127})&{1, 3, 5, 9, 13, 15, 16, 22, 23, 28, 29, 31, 32, 33, 39, 42, 44, 47, 50, 53, 56, 57, 58, 61, 63, 65, 68, 70, 72, 73, 77, 78, 79, 80, 81, 82, 83, 88, 89, 94, 101, 104, 108, 109, 112, 114, 117, 120, 123, 124, 126, 133, 134, 141, 146, 151, 156, 168, 170, 190, 191, 197, 201, 207, 210, 212, 220, 228, 231, 232, 236, 238, 239, 247, 249, 250, 254, 263, 268, 271, 278, 279}\n"
     ]
    }
   ],
   "source": [
    "q = '(华为 or 苹果) and 5g手机'\n",
    "\n",
    "q_cut_parts = list(jieba.cut(q))\n",
    "\n",
    "result_l = []\n",
    "for part in q_cut_parts:\n",
    "    if part == '(' or part == ')':\n",
    "        result_l.append(part)\n",
    "    elif part == 'and':\n",
    "        result_l.append('&')\n",
    "    elif part == 'or':\n",
    "        result_l.append('|')\n",
    "    elif part == 'not':\n",
    "        result_l.append('-')\n",
    "    elif part == ' ':\n",
    "        pass\n",
    "    else:\n",
    "        result_l.append(str(searcherv0.cache[part]))\n",
    "# print(result_l)\n",
    "result = ''.join(result_l)\n",
    "print(result)"
   ]
  },
  {
   "cell_type": "code",
   "execution_count": 12,
   "metadata": {},
   "outputs": [
    {
     "data": {
      "text/plain": [
       "{1,\n",
       " 3,\n",
       " 9,\n",
       " 13,\n",
       " 16,\n",
       " 23,\n",
       " 28,\n",
       " 29,\n",
       " 32,\n",
       " 33,\n",
       " 39,\n",
       " 42,\n",
       " 50,\n",
       " 53,\n",
       " 56,\n",
       " 57,\n",
       " 58,\n",
       " 61,\n",
       " 63,\n",
       " 73,\n",
       " 77,\n",
       " 80,\n",
       " 81,\n",
       " 83,\n",
       " 89,\n",
       " 104,\n",
       " 108,\n",
       " 114,\n",
       " 123,\n",
       " 124,\n",
       " 126,\n",
       " 133,\n",
       " 134,\n",
       " 141,\n",
       " 146,\n",
       " 151,\n",
       " 168,\n",
       " 170,\n",
       " 190,\n",
       " 197,\n",
       " 210,\n",
       " 220,\n",
       " 231,\n",
       " 238,\n",
       " 247,\n",
       " 254,\n",
       " 271,\n",
       " 279}"
      ]
     },
     "execution_count": 12,
     "metadata": {},
     "output_type": "execute_result"
    }
   ],
   "source": [
    "eval(result)"
   ]
  },
  {
   "cell_type": "code",
   "execution_count": 16,
   "metadata": {},
   "outputs": [],
   "source": [
    "q = '(华为 or 苹果) and 5g手机'"
   ]
  },
  {
   "cell_type": "code",
   "execution_count": 19,
   "metadata": {},
   "outputs": [
    {
     "name": "stdout",
     "output_type": "stream",
     "text": [
      "Looking in indexes: https://pypi.tuna.tsinghua.edu.cn/simple\n",
      "Requirement already satisfied: pysnooper in c:\\users\\chenguang\\miniconda3\\envs\\jupyterlab\\lib\\site-packages (0.4.2)\n"
     ]
    }
   ],
   "source": [
    "!pip install pysnooper -i https://pypi.tuna.tsinghua.edu.cn/simple"
   ]
  },
  {
   "cell_type": "code",
   "execution_count": 29,
   "metadata": {},
   "outputs": [
    {
     "name": "stdout",
     "output_type": "stream",
     "text": [
      "(get_phrase_match(\"华为\") | get_phrase_match(\"苹果\")) & get_phrase_match(\"5g手机\") \n"
     ]
    }
   ],
   "source": [
    "import pysnooper\n",
    "\n",
    "# @pysnooper.snoop()\n",
    "def conv_query(query):\n",
    "    \"\"\"\n",
    "    将布尔查询转化成集合运算表达式\n",
    "    \"\"\"\n",
    "    query += ' '\n",
    "    qlen = len(query)\n",
    "    idx = 0\n",
    "    result_parts = []\n",
    "    cache = ''\n",
    "    while idx < qlen:\n",
    "        if query[idx] in ('(', ')', ' '):\n",
    "            if cache != '':\n",
    "                if cache == 'and' or cache == 'AND':\n",
    "                    result_parts.append('&')\n",
    "                elif cache == 'or' or cache == 'OR':\n",
    "                    result_parts.append('|')\n",
    "                elif cache == 'not' or cache == 'NOT':\n",
    "                    result_parts.append('-')\n",
    "                else:\n",
    "                    result_parts.append(\n",
    "                        'get_phrase_match(\"{}\")'.format(cache)\n",
    "                    )\n",
    "                cache = ''\n",
    "            result_parts.append(query[idx])\n",
    "        else:\n",
    "            cache += query[idx]\n",
    "        idx += 1\n",
    "#     if cache != '':\n",
    "#         result_parts.append(cache)\n",
    "    return ''.join(result_parts)\n",
    "\n",
    "print(conv_query(q))"
   ]
  },
  {
   "cell_type": "code",
   "execution_count": 33,
   "metadata": {},
   "outputs": [
    {
     "name": "stdout",
     "output_type": "stream",
     "text": [
      "{3, 134, 141, 15, 16, 271, 23, 28, 29, 33, 44, 50, 53, 56, 58, 190, 191, 70, 72, 73, 77, 78, 79, 80, 81, 82, 83, 210, 88, 89, 94, 104, 108, 109, 114, 123, 254}\n"
     ]
    }
   ],
   "source": [
    "def get_phrase_match(phrase):\n",
    "    result = {}\n",
    "    wid = 0\n",
    "    for word in jieba.cut(phrase):\n",
    "        if word not in searcherv0.cache:\n",
    "            result = {}\n",
    "            break\n",
    "        if wid == 0:\n",
    "            result = searcherv0.cache.get(word, {})\n",
    "        else:\n",
    "            if len(result) == 0:\n",
    "                break\n",
    "            result = result & searcherv0.cache.get(word, {})\n",
    "        wid += 1\n",
    "    return result\n",
    "\n",
    "print(get_phrase_match('5g手机'))"
   ]
  },
  {
   "cell_type": "code",
   "execution_count": 30,
   "metadata": {},
   "outputs": [
    {
     "data": {
      "text/plain": [
       "<__main__.MySearcherC12V0 at 0x23f61b8ab20>"
      ]
     },
     "execution_count": 30,
     "metadata": {},
     "output_type": "execute_result"
    }
   ],
   "source": [
    "searcherv0"
   ]
  },
  {
   "cell_type": "code",
   "execution_count": null,
   "metadata": {},
   "outputs": [],
   "source": []
  }
 ],
 "metadata": {
  "kernelspec": {
   "display_name": "Python 3",
   "language": "python",
   "name": "python3"
  },
  "language_info": {
   "codemirror_mode": {
    "name": "ipython",
    "version": 3
   },
   "file_extension": ".py",
   "mimetype": "text/x-python",
   "name": "python",
   "nbconvert_exporter": "python",
   "pygments_lexer": "ipython3",
   "version": "3.8.2"
  }
 },
 "nbformat": 4,
 "nbformat_minor": 4
}
