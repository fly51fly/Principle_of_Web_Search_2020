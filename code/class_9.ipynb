{
 "cells": [
  {
   "cell_type": "code",
   "execution_count": 1,
   "metadata": {},
   "outputs": [],
   "source": [
    "import requests  \n",
    "from lxml import etree \n",
    "import pickle\n",
    "import os\n",
    "from IPython.core.display import display, HTML\n",
    "import timeit\n",
    "import jieba\n",
    "\n",
    "class MySearcherC9V0:\n",
    "    \"\"\"\n",
    "    第七次课升级的搜索类版本：\n",
    "    1、__init__()初始化过程加载自定义分词词典\n",
    "    2、build_cache()改用cut_for_search进行分词\n",
    "    3、search()对查询分词\n",
    "    4、search()对分词结果取posting\n",
    "    5、search()对posting lists进行合并(交集)\n",
    "    6、build_cache()将posting保存格式改成只用doc_id(方便集合运算)\n",
    "    7、rank()实现对候选文档打分排序\n",
    "    8、score()实现对查询中包含的多词统计词频计分\n",
    "    \"\"\"\n",
    "    def __init__(self, scale=1):\n",
    "        self.docs = []\n",
    "        self.load_data()\n",
    "        self.docs *= scale\n",
    "        self.cache = {}\n",
    "        self.vocab = set()\n",
    "        self.lower_preprocess()\n",
    "        self.build_cache()\n",
    "        jieba.load_userdict('dict.txt')\n",
    "    \n",
    "    def build_cache(self):\n",
    "        doc_id = 0\n",
    "        for doc in self.docs:\n",
    "            doc_word_set = set()\n",
    "            for word in jieba.cut_for_search(\n",
    "                doc[3]\n",
    "            ):\n",
    "                if word not in doc_word_set:\n",
    "                    result_item = doc_id\n",
    "                    if word not in self.cache:\n",
    "                        self.cache[word] = set([result_item])\n",
    "                    else:\n",
    "                        self.cache[word].add(result_item)\n",
    "                    self.vocab.add(word)\n",
    "                    doc_word_set.add(word)\n",
    "            doc_id += 1\n",
    "    \n",
    "    def search(self, query):\n",
    "        result = None\n",
    "        for keyword in jieba.cut(query.lower()):\n",
    "            if keyword in self.cache:\n",
    "                if result is None:\n",
    "                    result = self.cache[keyword]\n",
    "                else:\n",
    "                    result = result & self.cache[keyword]\n",
    "            else:\n",
    "                result = set([])\n",
    "                break\n",
    "                \n",
    "        if result is None:\n",
    "            result = set([])\n",
    "        \n",
    "        sorted_result = self.rank(query, result)\n",
    "        return sorted_result\n",
    "                    \n",
    "    def lower_preprocess(self):\n",
    "        for doc_id in range(len(self.docs)):\n",
    "            self.docs[doc_id].append(\n",
    "                (self.docs[doc_id][1] \n",
    "                 + ' ' \n",
    "                 + self.docs[doc_id][2]).lower()\n",
    "            )\n",
    "    \n",
    "    def simple_test(self):\n",
    "        assert(len(self.search('tiktok')) > 1)\n",
    "    \n",
    "    def load_data(self):\n",
    "        data_filename = 'news_list.dat'\n",
    "        if os.path.exists(data_filename):\n",
    "            with open(data_filename,'rb') as f:\n",
    "                self.docs += pickle.load(f)\n",
    "#                 self.docs = self.docs + pickle.load(f)\n",
    "        else:\n",
    "            url = 'http://news.163.com/special/0001386F/rank_tech.html'  \n",
    "            headers = {'user-agent': 'Mozilla/5.0 (Windows NT 10.0; Win64; x64) AppleWebKit/537.36 (KHTML, like Gecko) Chrome/85.0.4183.121 Safari/537.36 Edg/85.0.564.63'}\n",
    "            r = requests.get(url, headers=headers)  \n",
    "            sel = etree.HTML(r.text) \n",
    "            link_set = set()\n",
    "            news_list = []\n",
    "            count = 0\n",
    "            for item in sel.xpath('//td/a'):  \n",
    "                title = item.text\n",
    "                link = item.attrib['href']\n",
    "            #     print(link, title)\n",
    "                if link not in link_set:\n",
    "                    r = requests.get(link, headers=headers)  \n",
    "                    sel = etree.HTML(r.text)  \n",
    "                    text_block = sel.xpath('//div[@id=\"endText\"]') \n",
    "                #     print(''.join(text_block[0].itertext()))\n",
    "                    if text_block:\n",
    "                        content = ''.join(text_block[0].xpath('./p/text()'))\n",
    "                        title = sel.xpath('//h1/text()')[0]\n",
    "                        self.docs.append([link, title, content])\n",
    "                    link_set.add(link)\n",
    "                count += 1\n",
    "                if count % 15 == 0:\n",
    "                    print(count, 'processed.')\n",
    "            with open(data_filename,'wb') as f:\n",
    "                pickle.dump(self.docs, f)\n",
    "    \n",
    "    def highlight(self, text, keyword):\n",
    "        idx = text.lower().find(keyword.lower())\n",
    "        result = text\n",
    "        if idx >= 0:\n",
    "            ori_word = text[idx:idx+(len(keyword))]\n",
    "            result = text.replace(ori_word, '<span style=\"color:red\";>{}</span>'.format(ori_word))\n",
    "        return result\n",
    "    \n",
    "    def rank(self, query, result_set):\n",
    "        result = []\n",
    "        for doc_id in result_set:\n",
    "            result.append([doc_id, \n",
    "                self.score(self.docs[doc_id],\n",
    "                          query)])\n",
    "        result.sort(key=lambda x: x[1], reverse=True)\n",
    "        return result       \n",
    "    \n",
    "    def score(self, item, query):\n",
    "        score = 0\n",
    "        #todo cut\n",
    "        for keyword in jieba.cut(query):\n",
    "            score += item[1].lower().count(keyword.lower()) * 5 \\\n",
    "                      + item[2].lower().count(keyword.lower()) * 3\n",
    "        return score\n",
    "    \n",
    "    def render_search_result(self, keyword):\n",
    "        count = 0\n",
    "        for item in self.search(keyword):\n",
    "            count += 1\n",
    "            display(HTML('{} [{}] {}'.format(count, item[1], \n",
    "                self.highlight(self.docs[item[0]][1], keyword) + '<br/>' + self.docs[item[0]][2])))"
   ]
  },
  {
   "cell_type": "code",
   "execution_count": 60,
   "metadata": {},
   "outputs": [],
   "source": [
    "class MySearcherC9V1(MySearcherC9V0):\n",
    "    \"\"\"\n",
    "    多关键词摘要和高亮\n",
    "    \"\"\"\n",
    "    def highlight(self, item, query, sidelen=12):\n",
    "        result = ''\n",
    "        positions = []\n",
    "        content_lower = item[2].lower()\n",
    "        word_start_map = []\n",
    "        word_end_map = []\n",
    "        last_word_end = -1\n",
    "        query_words = list(jieba.cut(query))\n",
    "        for keyword in query_words:\n",
    "            idx = content_lower.find(keyword.lower())\n",
    "            positions.append(idx)\n",
    "\n",
    "        for keyword in jieba.cut(content_lower):\n",
    "            cur_word_start = last_word_end + 1\n",
    "            cur_word_end = cur_word_start + len(keyword) - 1\n",
    "            for i in range(cur_word_start, cur_word_end + 1):\n",
    "                word_start_map.append(cur_word_start)\n",
    "                word_end_map.append(cur_word_end)\n",
    "            last_word_end = cur_word_end\n",
    "\n",
    "    #     print(word_start_map)\n",
    "    #     print(word_end_map)\n",
    "    #     print(positions)\n",
    "        positions.sort()\n",
    "    #     print(positions)\n",
    "        segments = []\n",
    "        i = 0\n",
    "        while i < len(positions):\n",
    "            start_pos = max(positions[i] - sidelen, 0)\n",
    "            end_pos = min(positions[i] + sidelen, len(content_lower) - 1)\n",
    "            while (i < len(positions) - 1 \n",
    "                and positions[i+1] - positions[i] <= 2 * sidelen):\n",
    "                end_pos = min(positions[i+1] + sidelen, len(content_lower) - 1)\n",
    "                i += 1  \n",
    "            start_ddd = '...' if start_pos > 0 else ''\n",
    "            end_ddd = '...' if end_pos < len(content_lower) else ''\n",
    "#             print(len(content_lower), end_pos)\n",
    "            segments.append(start_ddd \n",
    "                            + item[2][word_start_map[start_pos]:word_end_map[end_pos] + 1]\n",
    "                            + end_ddd)\n",
    "            i += 1\n",
    "    #     print(segments)\n",
    "        result = text = item[1] + '<br/>' + ''.join(segments)\n",
    "        text_lower = text.lower()\n",
    "        for keyword in query_words:\n",
    "    #         print(keyword)\n",
    "            idx = text_lower.find(keyword.lower())\n",
    "            if idx >= 0:\n",
    "                ori_word = text[idx:idx+(len(keyword))]\n",
    "    #             print(ori_word)\n",
    "                result = result.replace(ori_word, '<span style=\"color:red\";>{}</span>'.format(ori_word))\n",
    "        return result\n",
    "    \n",
    "    def render_search_result(self, query):\n",
    "        count = 0\n",
    "        for item in self.search(query):\n",
    "            count += 1\n",
    "            display(HTML('{} [{}] {}'.format(count, item[1], \n",
    "                self.highlight(self.docs[item[0]], query))))\n",
    "            print(self.highlight(self.docs[item[0]], query))"
   ]
  },
  {
   "cell_type": "code",
   "execution_count": 61,
   "metadata": {},
   "outputs": [],
   "source": [
    "searcher_v1 = MySearcherC9V1()"
   ]
  },
  {
   "cell_type": "code",
   "execution_count": 62,
   "metadata": {},
   "outputs": [
    {
     "data": {
      "text/html": [
       "1 [167] 没大惊喜，但<span style=\"color:red\";>iPhone</span>12这次诚意满满，我心动了<br/>...发布会，带来了姗姗来迟的<span style=\"color:red\";>iPhone</span>12系列。虽然......华为超越苹果成为全球第二大<span style=\"color:red\";>手机</span>厂商；然而，由于受到美国..."
      ],
      "text/plain": [
       "<IPython.core.display.HTML object>"
      ]
     },
     "metadata": {},
     "output_type": "display_data"
    },
    {
     "name": "stdout",
     "output_type": "stream",
     "text": [
      "没大惊喜，但<span style=\"color:red\";>iPhone</span>12这次诚意满满，我心动了<br/>...发布会，带来了姗姗来迟的<span style=\"color:red\";>iPhone</span>12系列。虽然......华为超越苹果成为全球第二大<span style=\"color:red\";>手机</span>厂商；然而，由于受到美国...\n"
     ]
    },
    {
     "data": {
      "text/html": [
       "2 [167] 没大惊喜，但<span style=\"color:red\";>iPhone</span>12这次诚意满满，我心动了<br/>...发布会，带来了姗姗来迟的<span style=\"color:red\";>iPhone</span>12系列。虽然......华为超越苹果成为全球第二大<span style=\"color:red\";>手机</span>厂商；然而，由于受到美国..."
      ],
      "text/plain": [
       "<IPython.core.display.HTML object>"
      ]
     },
     "metadata": {},
     "output_type": "display_data"
    },
    {
     "name": "stdout",
     "output_type": "stream",
     "text": [
      "没大惊喜，但<span style=\"color:red\";>iPhone</span>12这次诚意满满，我心动了<br/>...发布会，带来了姗姗来迟的<span style=\"color:red\";>iPhone</span>12系列。虽然......华为超越苹果成为全球第二大<span style=\"color:red\";>手机</span>厂商；然而，由于受到美国...\n"
     ]
    },
    {
     "data": {
      "text/html": [
       "3 [161] 华为Mate40来了 硬刚<span style=\"color:red\";>iPhone</span>12！买哪个？网友吵起来了<br/>...华为Mate40来了，硬刚<span style=\"color:red\";>iPhone</span>12！该买哪一个......，华为Mate 40系列<span style=\"color:red\";>手机</span>将与<span style=\"color:red\";>iPhone</span> 12..."
      ],
      "text/plain": [
       "<IPython.core.display.HTML object>"
      ]
     },
     "metadata": {},
     "output_type": "display_data"
    },
    {
     "name": "stdout",
     "output_type": "stream",
     "text": [
      "华为Mate40来了 硬刚<span style=\"color:red\";>iPhone</span>12！买哪个？网友吵起来了<br/>...华为Mate40来了，硬刚<span style=\"color:red\";>iPhone</span>12！该买哪一个......，华为Mate 40系列<span style=\"color:red\";>手机</span>将与<span style=\"color:red\";>iPhone</span> 12...\n"
     ]
    },
    {
     "data": {
      "text/html": [
       "4 [152] <span style=\"color:red\";>iPhone</span> 12大猜想！直角边框、5G、蓝色、不送耳机<br/>...       （原标题：<span style=\"color:red\";>iPhone</span> 12大猜想：......微博数码博主详细介绍了4款<span style=\"color:red\";>手机</span>的具体参数和颜色：顶配..."
      ],
      "text/plain": [
       "<IPython.core.display.HTML object>"
      ]
     },
     "metadata": {},
     "output_type": "display_data"
    },
    {
     "name": "stdout",
     "output_type": "stream",
     "text": [
      "<span style=\"color:red\";>iPhone</span> 12大猜想！直角边框、5G、蓝色、不送耳机<br/>...       （原标题：<span style=\"color:red\";>iPhone</span> 12大猜想：......微博数码博主详细介绍了4款<span style=\"color:red\";>手机</span>的具体参数和颜色：顶配...\n"
     ]
    },
    {
     "data": {
      "text/html": [
       "5 [131] <span style=\"color:red\";>iPhone</span> 12系列摄影能力有多强？夜间拍照更强了<br/>...\t作者：陈思学 梁桂海【<span style=\"color:red\";>手机</span>中国新闻】介绍完<span style=\"color:red\";>iPhone</span> 12后，苹果..."
      ],
      "text/plain": [
       "<IPython.core.display.HTML object>"
      ]
     },
     "metadata": {},
     "output_type": "display_data"
    },
    {
     "name": "stdout",
     "output_type": "stream",
     "text": [
      "<span style=\"color:red\";>iPhone</span> 12系列摄影能力有多强？夜间拍照更强了<br/>...\t作者：陈思学 梁桂海【<span style=\"color:red\";>手机</span>中国新闻】介绍完<span style=\"color:red\";>iPhone</span> 12后，苹果...\n"
     ]
    },
    {
     "data": {
      "text/html": [
       "6 [131] <span style=\"color:red\";>iPhone</span> 12系列摄影能力有多强？夜间拍照更强了<br/>...\t作者：陈思学 梁桂海【<span style=\"color:red\";>手机</span>中国新闻】介绍完<span style=\"color:red\";>iPhone</span> 12后，苹果..."
      ],
      "text/plain": [
       "<IPython.core.display.HTML object>"
      ]
     },
     "metadata": {},
     "output_type": "display_data"
    },
    {
     "name": "stdout",
     "output_type": "stream",
     "text": [
      "<span style=\"color:red\";>iPhone</span> 12系列摄影能力有多强？夜间拍照更强了<br/>...\t作者：陈思学 梁桂海【<span style=\"color:red\";>手机</span>中国新闻】介绍完<span style=\"color:red\";>iPhone</span> 12后，苹果...\n"
     ]
    },
    {
     "data": {
      "text/html": [
       "7 [122] 富士康万元招人，新<span style=\"color:red\";>iPhone</span>要和华为\"绝版\"正面对决<br/>...：富士康重奖万元招人，新<span style=\"color:red\";>iPhone</span>要和华为“绝版......等事业群。iDPBG是做<span style=\"color:red\";>手机</span>组装的部门，目前正在组装..."
      ],
      "text/plain": [
       "<IPython.core.display.HTML object>"
      ]
     },
     "metadata": {},
     "output_type": "display_data"
    },
    {
     "name": "stdout",
     "output_type": "stream",
     "text": [
      "富士康万元招人，新<span style=\"color:red\";>iPhone</span>要和华为\"绝版\"正面对决<br/>...：富士康重奖万元招人，新<span style=\"color:red\";>iPhone</span>要和华为“绝版......等事业群。iDPBG是做<span style=\"color:red\";>手机</span>组装的部门，目前正在组装...\n"
     ]
    },
    {
     "data": {
      "text/html": [
       "8 [119] <span style=\"color:red\";>iPhone</span> 12今天没来，苹果早就告诉你要迟到，不过A14芯片提前来了<br/>...正在举办今年秋季新品盛宴，<span style=\"color:red\";>iPhone</span>12缺席，却热度......苹果高管确认苹果的首代5G<span style=\"color:red\";>手机</span>，即秋季发布的<span style=\"color:red\";>iPhone</span>12..."
      ],
      "text/plain": [
       "<IPython.core.display.HTML object>"
      ]
     },
     "metadata": {},
     "output_type": "display_data"
    },
    {
     "name": "stdout",
     "output_type": "stream",
     "text": [
      "<span style=\"color:red\";>iPhone</span> 12今天没来，苹果早就告诉你要迟到，不过A14芯片提前来了<br/>...正在举办今年秋季新品盛宴，<span style=\"color:red\";>iPhone</span>12缺席，却热度......苹果高管确认苹果的首代5G<span style=\"color:red\";>手机</span>，即秋季发布的<span style=\"color:red\";>iPhone</span>12...\n"
     ]
    },
    {
     "data": {
      "text/html": [
       "9 [68] 苹果<span style=\"color:red\";>iPhone</span> 12或掀起\"超级周期\" 定价至关重要<br/>苹果将举行<span style=\"color:red\";>iPhone</span> 12系列新品......售价远低于1000美元的<span style=\"color:red\";>手机</span>。近1000美元是2017..."
      ],
      "text/plain": [
       "<IPython.core.display.HTML object>"
      ]
     },
     "metadata": {},
     "output_type": "display_data"
    },
    {
     "name": "stdout",
     "output_type": "stream",
     "text": [
      "苹果<span style=\"color:red\";>iPhone</span> 12或掀起\"超级周期\" 定价至关重要<br/>苹果将举行<span style=\"color:red\";>iPhone</span> 12系列新品......售价远低于1000美元的<span style=\"color:red\";>手机</span>。近1000美元是2017...\n"
     ]
    },
    {
     "data": {
      "text/html": [
       "10 [68] 苹果<span style=\"color:red\";>iPhone</span> 12或掀起\"超级周期\" 定价至关重要<br/>苹果将举行<span style=\"color:red\";>iPhone</span> 12系列新品......售价远低于1000美元的<span style=\"color:red\";>手机</span>。近1000美元是2017..."
      ],
      "text/plain": [
       "<IPython.core.display.HTML object>"
      ]
     },
     "metadata": {},
     "output_type": "display_data"
    },
    {
     "name": "stdout",
     "output_type": "stream",
     "text": [
      "苹果<span style=\"color:red\";>iPhone</span> 12或掀起\"超级周期\" 定价至关重要<br/>苹果将举行<span style=\"color:red\";>iPhone</span> 12系列新品......售价远低于1000美元的<span style=\"color:red\";>手机</span>。近1000美元是2017...\n"
     ]
    },
    {
     "data": {
      "text/html": [
       "11 [59] <span style=\"color:red\";>iPhone</span> 12再曝新料：搭载智能数据模式 4G/5G智能切换<br/>...       （原标题：<span style=\"color:red\";>iPhone</span> 12发布前再......全新<span style=\"color:red\";>iPhone</span> 12系列<span style=\"color:red\";>手机</span>等多款产品将正式亮相。..."
      ],
      "text/plain": [
       "<IPython.core.display.HTML object>"
      ]
     },
     "metadata": {},
     "output_type": "display_data"
    },
    {
     "name": "stdout",
     "output_type": "stream",
     "text": [
      "<span style=\"color:red\";>iPhone</span> 12再曝新料：搭载智能数据模式 4G/5G智能切换<br/>...       （原标题：<span style=\"color:red\";>iPhone</span> 12发布前再......全新<span style=\"color:red\";>iPhone</span> 12系列<span style=\"color:red\";>手机</span>等多款产品将正式亮相。...\n"
     ]
    },
    {
     "data": {
      "text/html": [
       "12 [50] <span style=\"color:red\";>iPhone</span> 12最新爆料：首批产品10月5日向经销商发货<br/>...5.4英寸苹果新机被曝命名为<span style=\"color:red\";>iPhone</span> 12 mini......是两款<span style=\"color:red\";>iPhone</span> 12<span style=\"color:red\";>手机</span>，最小的5.4英寸<span style=\"color:red\";>iPhone</span>..."
      ],
      "text/plain": [
       "<IPython.core.display.HTML object>"
      ]
     },
     "metadata": {},
     "output_type": "display_data"
    },
    {
     "name": "stdout",
     "output_type": "stream",
     "text": [
      "<span style=\"color:red\";>iPhone</span> 12最新爆料：首批产品10月5日向经销商发货<br/>...5.4英寸苹果新机被曝命名为<span style=\"color:red\";>iPhone</span> 12 mini......是两款<span style=\"color:red\";>iPhone</span> 12<span style=\"color:red\";>手机</span>，最小的5.4英寸<span style=\"color:red\";>iPhone</span>...\n"
     ]
    },
    {
     "data": {
      "text/html": [
       "13 [50] 又为苹果\"打工\"？美国两大运营商补贴送<span style=\"color:red\";>iPhone</span>12<br/>...Verizon宣布将免费赠送5G版<span style=\"color:red\";>iPhone</span>，显示他们正为......2017年以来对这款智能<span style=\"color:red\";>手机</span>进行的首次重大重新设计..."
      ],
      "text/plain": [
       "<IPython.core.display.HTML object>"
      ]
     },
     "metadata": {},
     "output_type": "display_data"
    },
    {
     "name": "stdout",
     "output_type": "stream",
     "text": [
      "又为苹果\"打工\"？美国两大运营商补贴送<span style=\"color:red\";>iPhone</span>12<br/>...Verizon宣布将免费赠送5G版<span style=\"color:red\";>iPhone</span>，显示他们正为......2017年以来对这款智能<span style=\"color:red\";>手机</span>进行的首次重大重新设计...\n"
     ]
    },
    {
     "data": {
      "text/html": [
       "14 [50] <span style=\"color:red\";>iPhone</span>12恐缺席9月发布会 苹果回应：敬请期待<br/>...       （原标题：<span style=\"color:red\";>iPhone</span>12恐缺席9月......市场高度关注的苹果首款5G<span style=\"color:red\";>手机</span><span style=\"color:red\";>iPhone</span> 12的发布..."
      ],
      "text/plain": [
       "<IPython.core.display.HTML object>"
      ]
     },
     "metadata": {},
     "output_type": "display_data"
    },
    {
     "name": "stdout",
     "output_type": "stream",
     "text": [
      "<span style=\"color:red\";>iPhone</span>12恐缺席9月发布会 苹果回应：敬请期待<br/>...       （原标题：<span style=\"color:red\";>iPhone</span>12恐缺席9月......市场高度关注的苹果首款5G<span style=\"color:red\";>手机</span><span style=\"color:red\";>iPhone</span> 12的发布...\n"
     ]
    },
    {
     "data": {
      "text/html": [
       "15 [48] iOS迎重大更新，偷偷搜集你信息的APP瑟瑟发抖！<br/>...进行大改，适用于包括初代<span style=\"color:red\";>iPhone</span> SE和<span style=\"color:red\";>iPhone</span>......<span style=\"color:red\";>iPhone</span> 6S在内的旧款智能<span style=\"color:red\";>手机</span>。这次的更新中有个真正..."
      ],
      "text/plain": [
       "<IPython.core.display.HTML object>"
      ]
     },
     "metadata": {},
     "output_type": "display_data"
    },
    {
     "name": "stdout",
     "output_type": "stream",
     "text": [
      "iOS迎重大更新，偷偷搜集你信息的APP瑟瑟发抖！<br/>...进行大改，适用于包括初代<span style=\"color:red\";>iPhone</span> SE和<span style=\"color:red\";>iPhone</span>......<span style=\"color:red\";>iPhone</span> 6S在内的旧款智能<span style=\"color:red\";>手机</span>。这次的更新中有个真正...\n"
     ]
    },
    {
     "data": {
      "text/html": [
       "16 [47] 发布会前仅数小时，疑似<span style=\"color:red\";>iPhone</span> 12官方渲染图曝光<br/>...标题：发布会前数小时，疑似<span style=\"color:red\";>iPhone</span> 12官方渲染......举世瞩目的<span style=\"color:red\";>iPhone</span> 12<span style=\"color:red\";>手机</span>产品线和HomePod..."
      ],
      "text/plain": [
       "<IPython.core.display.HTML object>"
      ]
     },
     "metadata": {},
     "output_type": "display_data"
    },
    {
     "name": "stdout",
     "output_type": "stream",
     "text": [
      "发布会前仅数小时，疑似<span style=\"color:red\";>iPhone</span> 12官方渲染图曝光<br/>...标题：发布会前数小时，疑似<span style=\"color:red\";>iPhone</span> 12官方渲染......举世瞩目的<span style=\"color:red\";>iPhone</span> 12<span style=\"color:red\";>手机</span>产品线和HomePod...\n"
     ]
    },
    {
     "data": {
      "text/html": [
       "17 [47] <span style=\"color:red\";>iPhone</span> 12细节：支持大量5G频段，mini仅支持单SIM卡<br/>...    （原标题：准备买<span style=\"color:red\";>iPhone</span> 12了？让我们......以及<span style=\"color:red\";>iPhone</span> 12系列<span style=\"color:red\";>手机</span>。产品发布后，苹果也第一..."
      ],
      "text/plain": [
       "<IPython.core.display.HTML object>"
      ]
     },
     "metadata": {},
     "output_type": "display_data"
    },
    {
     "name": "stdout",
     "output_type": "stream",
     "text": [
      "<span style=\"color:red\";>iPhone</span> 12细节：支持大量5G频段，mini仅支持单SIM卡<br/>...    （原标题：准备买<span style=\"color:red\";>iPhone</span> 12了？让我们......以及<span style=\"color:red\";>iPhone</span> 12系列<span style=\"color:red\";>手机</span>。产品发布后，苹果也第一...\n"
     ]
    },
    {
     "data": {
      "text/html": [
       "18 [47] <span style=\"color:red\";>iPhone</span> 12细节：支持大量5G频段，mini仅支持单SIM卡<br/>...    （原标题：准备买<span style=\"color:red\";>iPhone</span> 12了？让我们......以及<span style=\"color:red\";>iPhone</span> 12系列<span style=\"color:red\";>手机</span>。产品发布后，苹果也第一..."
      ],
      "text/plain": [
       "<IPython.core.display.HTML object>"
      ]
     },
     "metadata": {},
     "output_type": "display_data"
    },
    {
     "name": "stdout",
     "output_type": "stream",
     "text": [
      "<span style=\"color:red\";>iPhone</span> 12细节：支持大量5G频段，mini仅支持单SIM卡<br/>...    （原标题：准备买<span style=\"color:red\";>iPhone</span> 12了？让我们......以及<span style=\"color:red\";>iPhone</span> 12系列<span style=\"color:red\";>手机</span>。产品发布后，苹果也第一...\n"
     ]
    },
    {
     "data": {
      "text/html": [
       "19 [47] 发布会前仅数小时，疑似<span style=\"color:red\";>iPhone</span> 12官方渲染图曝光<br/>...标题：发布会前数小时，疑似<span style=\"color:red\";>iPhone</span> 12官方渲染......举世瞩目的<span style=\"color:red\";>iPhone</span> 12<span style=\"color:red\";>手机</span>产品线和HomePod..."
      ],
      "text/plain": [
       "<IPython.core.display.HTML object>"
      ]
     },
     "metadata": {},
     "output_type": "display_data"
    },
    {
     "name": "stdout",
     "output_type": "stream",
     "text": [
      "发布会前仅数小时，疑似<span style=\"color:red\";>iPhone</span> 12官方渲染图曝光<br/>...标题：发布会前数小时，疑似<span style=\"color:red\";>iPhone</span> 12官方渲染......举世瞩目的<span style=\"color:red\";>iPhone</span> 12<span style=\"color:red\";>手机</span>产品线和HomePod...\n"
     ]
    },
    {
     "data": {
      "text/html": [
       "20 [46] <span style=\"color:red\";>iPhone</span> 12要来了！新<span style=\"color:red\";>手机</span>之外还有什么值得期待？<br/>...特别发布会，预计届时将推出<span style=\"color:red\";>iPhone</span> 12智能<span style=\"color:red\";>手机</span>以及跟踪设备AirTags..."
      ],
      "text/plain": [
       "<IPython.core.display.HTML object>"
      ]
     },
     "metadata": {},
     "output_type": "display_data"
    },
    {
     "name": "stdout",
     "output_type": "stream",
     "text": [
      "<span style=\"color:red\";>iPhone</span> 12要来了！新<span style=\"color:red\";>手机</span>之外还有什么值得期待？<br/>...特别发布会，预计届时将推出<span style=\"color:red\";>iPhone</span> 12智能<span style=\"color:red\";>手机</span>以及跟踪设备AirTags...\n"
     ]
    },
    {
     "data": {
      "text/html": [
       "21 [38] 传<span style=\"color:red\";>iPhone</span> 12Mini于11月中旬发货 HomePod mini卖99美元<br/>...最新泄露的消息称，苹果新款<span style=\"color:red\";>iPhone</span> 12 mini......12系列，并列出了这些新款<span style=\"color:red\";>手机</span>的价格，最低的两款都比..."
      ],
      "text/plain": [
       "<IPython.core.display.HTML object>"
      ]
     },
     "metadata": {},
     "output_type": "display_data"
    },
    {
     "name": "stdout",
     "output_type": "stream",
     "text": [
      "传<span style=\"color:red\";>iPhone</span> 12Mini于11月中旬发货 HomePod mini卖99美元<br/>...最新泄露的消息称，苹果新款<span style=\"color:red\";>iPhone</span> 12 mini......12系列，并列出了这些新款<span style=\"color:red\";>手机</span>的价格，最低的两款都比...\n"
     ]
    },
    {
     "data": {
      "text/html": [
       "22 [35] 下周苹果5G<span style=\"color:red\";>手机</span>要来了 但美国运营商还没准备好<br/>... （原标题：下周苹果5G<span style=\"color:red\";>手机</span>要来了 但美国运营商还......苹果公司预计将在下周发布新一代<span style=\"color:red\";>iPhone</span><span style=\"color:red\";>手机</span>（<span style=\"color:red\";>iPhone</span>..."
      ],
      "text/plain": [
       "<IPython.core.display.HTML object>"
      ]
     },
     "metadata": {},
     "output_type": "display_data"
    },
    {
     "name": "stdout",
     "output_type": "stream",
     "text": [
      "下周苹果5G<span style=\"color:red\";>手机</span>要来了 但美国运营商还没准备好<br/>... （原标题：下周苹果5G<span style=\"color:red\";>手机</span>要来了 但美国运营商还......苹果公司预计将在下周发布新一代<span style=\"color:red\";>iPhone</span><span style=\"color:red\";>手机</span>（<span style=\"color:red\";>iPhone</span>...\n"
     ]
    },
    {
     "data": {
      "text/html": [
       "23 [27] 周周更新不停歇，iOS 14.0.1系统发布：修复部分bug<br/>...官方说明，本次更新包括针对<span style=\"color:red\";>iPhone</span>的错误修复，如果......现在就可以备份好数据，并将<span style=\"color:red\";>手机</span>升级至最新的系统。iOS..."
      ],
      "text/plain": [
       "<IPython.core.display.HTML object>"
      ]
     },
     "metadata": {},
     "output_type": "display_data"
    },
    {
     "name": "stdout",
     "output_type": "stream",
     "text": [
      "周周更新不停歇，iOS 14.0.1系统发布：修复部分bug<br/>...官方说明，本次更新包括针对<span style=\"color:red\";>iPhone</span>的错误修复，如果......现在就可以备份好数据，并将<span style=\"color:red\";>手机</span>升级至最新的系统。iOS...\n"
     ]
    },
    {
     "data": {
      "text/html": [
       "24 [27] 拼多多插入京东、苏宁腹地<br/>...的数据来看，拼多多已经是<span style=\"color:red\";>手机</span>数码3C 市场最大的经销......，新补贴政策不仅拉低了 <span style=\"color:red\";>iphone</span>、戴森的价格，..."
      ],
      "text/plain": [
       "<IPython.core.display.HTML object>"
      ]
     },
     "metadata": {},
     "output_type": "display_data"
    },
    {
     "name": "stdout",
     "output_type": "stream",
     "text": [
      "拼多多插入京东、苏宁腹地<br/>...的数据来看，拼多多已经是<span style=\"color:red\";>手机</span>数码3C 市场最大的经销......，新补贴政策不仅拉低了 <span style=\"color:red\";>iphone</span>、戴森的价格，...\n"
     ]
    },
    {
     "data": {
      "text/html": [
       "25 [26] 消息称<span style=\"color:red\";>iPhone</span> 12能实现5G和4G之间的无缝过渡：提高续航<br/>...    （原标题：消息称<span style=\"color:red\";>iPhone</span> 12能实现5G......12本周即将发布，对于这款<span style=\"color:red\";>手机</span>，目前可以肯定的是，其..."
      ],
      "text/plain": [
       "<IPython.core.display.HTML object>"
      ]
     },
     "metadata": {},
     "output_type": "display_data"
    },
    {
     "name": "stdout",
     "output_type": "stream",
     "text": [
      "消息称<span style=\"color:red\";>iPhone</span> 12能实现5G和4G之间的无缝过渡：提高续航<br/>...    （原标题：消息称<span style=\"color:red\";>iPhone</span> 12能实现5G......12本周即将发布，对于这款<span style=\"color:red\";>手机</span>，目前可以肯定的是，其...\n"
     ]
    },
    {
     "data": {
      "text/html": [
       "26 [23] 华为抢购芯片+<span style=\"color:red\";>手机</span>热卖，三星Q3营收或达570亿美元<br/>...大幅度增长，原因可能是智能<span style=\"color:red\";>手机</span>销售强劲复苏，以及华为......下降，因为其大客户苹果新款<span style=\"color:red\";>iPhone</span>的发布时间晚于..."
      ],
      "text/plain": [
       "<IPython.core.display.HTML object>"
      ]
     },
     "metadata": {},
     "output_type": "display_data"
    },
    {
     "name": "stdout",
     "output_type": "stream",
     "text": [
      "华为抢购芯片+<span style=\"color:red\";>手机</span>热卖，三星Q3营收或达570亿美元<br/>...大幅度增长，原因可能是智能<span style=\"color:red\";>手机</span>销售强劲复苏，以及华为......下降，因为其大客户苹果新款<span style=\"color:red\";>iPhone</span>的发布时间晚于...\n"
     ]
    },
    {
     "data": {
      "text/html": [
       "27 [23] 1.7万元！腾讯奖励万名员工每人一台华为折叠屏<span style=\"color:red\";>手机</span><br/>...员工还收到一款华为折叠屏<span style=\"color:red\";>手机</span>Mate Xs礼物。这是......一名员工都获得了一部顶配版<span style=\"color:red\";>iPhone</span> X<span style=\"color:red\";>手机</span>。而在..."
      ],
      "text/plain": [
       "<IPython.core.display.HTML object>"
      ]
     },
     "metadata": {},
     "output_type": "display_data"
    },
    {
     "name": "stdout",
     "output_type": "stream",
     "text": [
      "1.7万元！腾讯奖励万名员工每人一台华为折叠屏<span style=\"color:red\";>手机</span><br/>...员工还收到一款华为折叠屏<span style=\"color:red\";>手机</span>Mate Xs礼物。这是......一名员工都获得了一部顶配版<span style=\"color:red\";>iPhone</span> X<span style=\"color:red\";>手机</span>。而在...\n"
     ]
    },
    {
     "data": {
      "text/html": [
       "28 [21] 杀进100美元 苹果开始认真做智能音箱<br/>...HomePod Mini将和<span style=\"color:red\";>iPhone</span> 12一同在苹果......。总结苹果带头重塑了智能<span style=\"color:red\";>手机</span>行业，但它也不得不承认..."
      ],
      "text/plain": [
       "<IPython.core.display.HTML object>"
      ]
     },
     "metadata": {},
     "output_type": "display_data"
    },
    {
     "name": "stdout",
     "output_type": "stream",
     "text": [
      "杀进100美元 苹果开始认真做智能音箱<br/>...HomePod Mini将和<span style=\"color:red\";>iPhone</span> 12一同在苹果......。总结苹果带头重塑了智能<span style=\"color:red\";>手机</span>行业，但它也不得不承认...\n"
     ]
    },
    {
     "data": {
      "text/html": [
       "29 [18] 罗永浩回归！本人主持的秋季旧机发布会来了 与苹果撞期<br/>...直播之后，本人就暂时告别了<span style=\"color:red\";>手机</span>发布会，不少人期待下一场......：罗永浩发布会时间与苹果<span style=\"color:red\";>iPhone</span> 12发布日期..."
      ],
      "text/plain": [
       "<IPython.core.display.HTML object>"
      ]
     },
     "metadata": {},
     "output_type": "display_data"
    },
    {
     "name": "stdout",
     "output_type": "stream",
     "text": [
      "罗永浩回归！本人主持的秋季旧机发布会来了 与苹果撞期<br/>...直播之后，本人就暂时告别了<span style=\"color:red\";>手机</span>发布会，不少人期待下一场......：罗永浩发布会时间与苹果<span style=\"color:red\";>iPhone</span> 12发布日期...\n"
     ]
    },
    {
     "data": {
      "text/html": [
       "30 [18] 罗永浩回归！本人主持的秋季旧机发布会来了 与苹果撞期<br/>...直播之后，本人就暂时告别了<span style=\"color:red\";>手机</span>发布会，不少人期待下一场......：罗永浩发布会时间与苹果<span style=\"color:red\";>iPhone</span> 12发布日期..."
      ],
      "text/plain": [
       "<IPython.core.display.HTML object>"
      ]
     },
     "metadata": {},
     "output_type": "display_data"
    },
    {
     "name": "stdout",
     "output_type": "stream",
     "text": [
      "罗永浩回归！本人主持的秋季旧机发布会来了 与苹果撞期<br/>...直播之后，本人就暂时告别了<span style=\"color:red\";>手机</span>发布会，不少人期待下一场......：罗永浩发布会时间与苹果<span style=\"color:red\";>iPhone</span> 12发布日期...\n"
     ]
    },
    {
     "data": {
      "text/html": [
       "31 [11] 苹果A14仿生芯片有多香？目前安卓类<span style=\"color:red\";>手机</span>芯片看了都慌<br/>...非常关键的硬件，因为新款<span style=\"color:red\";>iPhone</span> 12智能<span style=\"color:red\";>手机</span>、首款使用苹果自主研发..."
      ],
      "text/plain": [
       "<IPython.core.display.HTML object>"
      ]
     },
     "metadata": {},
     "output_type": "display_data"
    },
    {
     "name": "stdout",
     "output_type": "stream",
     "text": [
      "苹果A14仿生芯片有多香？目前安卓类<span style=\"color:red\";>手机</span>芯片看了都慌<br/>...非常关键的硬件，因为新款<span style=\"color:red\";>iPhone</span> 12智能<span style=\"color:red\";>手机</span>、首款使用苹果自主研发...\n"
     ]
    },
    {
     "data": {
      "text/html": [
       "32 [9] 传苹果下周不会发布自研芯片Mac 11月才亮相<br/>...在很大程度上将集中在新款<span style=\"color:red\";>iPhone</span> 12设备上，......发布会上似乎将重点放在智能<span style=\"color:red\";>手机</span>和音频产品上，而在春季..."
      ],
      "text/plain": [
       "<IPython.core.display.HTML object>"
      ]
     },
     "metadata": {},
     "output_type": "display_data"
    },
    {
     "name": "stdout",
     "output_type": "stream",
     "text": [
      "传苹果下周不会发布自研芯片Mac 11月才亮相<br/>...在很大程度上将集中在新款<span style=\"color:red\";>iPhone</span> 12设备上，......发布会上似乎将重点放在智能<span style=\"color:red\";>手机</span>和音频产品上，而在春季...\n"
     ]
    },
    {
     "data": {
      "text/html": [
       "33 [9] Win应用程序商店公开怼苹果：一视同仁，不屏蔽对手<br/>...的数量远远不及个人电脑和<span style=\"color:red\";>手机</span>。游戏机的商业模式与围绕......商业模式完全不同，后者在<span style=\"color:red\";>iPhone</span>和iPad设备..."
      ],
      "text/plain": [
       "<IPython.core.display.HTML object>"
      ]
     },
     "metadata": {},
     "output_type": "display_data"
    },
    {
     "name": "stdout",
     "output_type": "stream",
     "text": [
      "Win应用程序商店公开怼苹果：一视同仁，不屏蔽对手<br/>...的数量远远不及个人电脑和<span style=\"color:red\";>手机</span>。游戏机的商业模式与围绕......商业模式完全不同，后者在<span style=\"color:red\";>iPhone</span>和iPad设备...\n"
     ]
    },
    {
     "data": {
      "text/html": [
       "34 [6] 特斯拉系统遭全球性宕机！有车主被困在沙漠两小时<br/>...表示，“特斯拉的App在<span style=\"color:red\";>iPhone</span>上已经‘冻结’......系统的宕机，由于特斯拉的<span style=\"color:red\";>手机</span>App正成为其生态系统..."
      ],
      "text/plain": [
       "<IPython.core.display.HTML object>"
      ]
     },
     "metadata": {},
     "output_type": "display_data"
    },
    {
     "name": "stdout",
     "output_type": "stream",
     "text": [
      "特斯拉系统遭全球性宕机！有车主被困在沙漠两小时<br/>...表示，“特斯拉的App在<span style=\"color:red\";>iPhone</span>上已经‘冻结’......系统的宕机，由于特斯拉的<span style=\"color:red\";>手机</span>App正成为其生态系统...\n"
     ]
    }
   ],
   "source": [
    "searcher_v1.render_search_result('手机iPhone')"
   ]
  },
  {
   "cell_type": "code",
   "execution_count": 38,
   "metadata": {},
   "outputs": [
    {
     "name": "stdout",
     "output_type": "stream",
     "text": [
      "82 12\n",
      "82 81\n"
     ]
    },
    {
     "data": {
      "text/html": [
       "<span style=\"color:red\";>华为Mate40</span>来了 硬刚iPhone12！买哪个？网友吵起来了<br/><span style=\"color:red\";>华为Mate40</span>来了，硬刚......10月，华为Mate 40<span style=\"color:red\";>系列手机将与iP</span>hone 12系列手机正面<span style=\"color:red\";>对决...</span>"
      ],
      "text/plain": [
       "<IPython.core.display.HTML object>"
      ]
     },
     "metadata": {},
     "output_type": "display_data"
    }
   ],
   "source": [
    "def highlight(item, query, sidelen=12):\n",
    "    result = ''\n",
    "    positions = []\n",
    "    content_lower = item[2].lower()\n",
    "    word_start_map = []\n",
    "    word_end_map = []\n",
    "    last_word_end = -1\n",
    "    query_words = list(jieba.cut(query))\n",
    "    for keyword in query_words:\n",
    "        idx = content_lower.find(keyword.lower())\n",
    "        positions.append(idx)\n",
    "        \n",
    "    for keyword in jieba.cut(content_lower):\n",
    "        cur_word_start = last_word_end + 1\n",
    "        cur_word_end = cur_word_start + len(keyword) - 1\n",
    "        for i in range(cur_word_start, cur_word_end + 1):\n",
    "            word_start_map.append(cur_word_start)\n",
    "            word_end_map.append(cur_word_end)\n",
    "        last_word_end = cur_word_end\n",
    "        \n",
    "#     print(word_start_map)\n",
    "#     print(word_end_map)\n",
    "#     print(positions)\n",
    "    positions.sort()\n",
    "#     print(positions)\n",
    "    segments = []\n",
    "    i = 0\n",
    "    while i < len(positions):\n",
    "        start_pos = max(positions[i] - sidelen, 0)\n",
    "        end_pos = min(positions[i] + sidelen, len(content_lower) - 1)\n",
    "        while (i < len(positions) - 1 \n",
    "            and positions[i+1] - positions[i] <= 2 * sidelen):\n",
    "            end_pos = min(positions[i+1] + sidelen, len(content_lower) - 1)\n",
    "            i += 1  \n",
    "        start_ddd = '...' if start_pos > 0 else ''\n",
    "        end_ddd = '...' if end_pos < len(content_lower) else ''\n",
    "        print(len(content_lower), end_pos)\n",
    "        segments.append(start_ddd \n",
    "                        + item[2][word_start_map[start_pos]:word_end_map[end_pos] + 1]\n",
    "                        + end_ddd)\n",
    "        i += 1\n",
    "#     print(segments)\n",
    "    result = text = item[1] + '<br/>' + ''.join(segments)\n",
    "    text_lower = text.lower()\n",
    "    for keyword in query_words:\n",
    "#         print(keyword)\n",
    "        idx = text_lower.find(keyword.lower())\n",
    "        if idx >= 0:\n",
    "            ori_word = text[idx:idx+(len(query))]\n",
    "#             print(ori_word)\n",
    "            result = result.replace(ori_word, '<span style=\"color:red\";>{}</span>'.format(ori_word))\n",
    "    return result\n",
    "\n",
    "display(HTML(highlight([\n",
    "    '',\n",
    "    '华为Mate40来了 硬刚iPhone12！买哪个？网友吵起来了', \n",
    "    '华为Mate40来了，硬刚iPhone12！该买哪一个？网友吵起来了） 每经编辑 何小桃这个10月，华为Mate 40系列手机将与iPhone 12系列手机正面对决'\n",
    "], '对决华为系列手机')))"
   ]
  },
  {
   "cell_type": "code",
   "execution_count": 19,
   "metadata": {},
   "outputs": [],
   "source": [
    "keywords = list(jieba.cut('华为Mate40来了 硬刚iPhone12！'))"
   ]
  },
  {
   "cell_type": "code",
   "execution_count": 20,
   "metadata": {},
   "outputs": [
    {
     "data": {
      "text/plain": [
       "['华为', 'Mate40', '来', '了', ' ', '硬刚', 'iPhone12', '！']"
      ]
     },
     "execution_count": 20,
     "metadata": {},
     "output_type": "execute_result"
    }
   ],
   "source": [
    "keywords"
   ]
  },
  {
   "cell_type": "code",
   "execution_count": 23,
   "metadata": {},
   "outputs": [
    {
     "name": "stdout",
     "output_type": "stream",
     "text": [
      "华为\n",
      "Mate40\n",
      "来\n",
      "了\n",
      " \n",
      "硬刚\n",
      "iPhone12\n",
      "！\n"
     ]
    }
   ],
   "source": [
    "for keyword in keywords:\n",
    "    print(keyword)"
   ]
  },
  {
   "cell_type": "code",
   "execution_count": 29,
   "metadata": {},
   "outputs": [
    {
     "name": "stdout",
     "output_type": "stream",
     "text": [
      "1\n",
      "2\n",
      "3\n"
     ]
    }
   ],
   "source": [
    "for i in range(1,3+1):\n",
    "    print(i)"
   ]
  },
  {
   "cell_type": "code",
   "execution_count": null,
   "metadata": {},
   "outputs": [],
   "source": [
    "'abcdef'"
   ]
  }
 ],
 "metadata": {
  "kernelspec": {
   "display_name": "Python 3",
   "language": "python",
   "name": "python3"
  },
  "language_info": {
   "codemirror_mode": {
    "name": "ipython",
    "version": 3
   },
   "file_extension": ".py",
   "mimetype": "text/x-python",
   "name": "python",
   "nbconvert_exporter": "python",
   "pygments_lexer": "ipython3",
   "version": "3.8.2"
  }
 },
 "nbformat": 4,
 "nbformat_minor": 4
}
