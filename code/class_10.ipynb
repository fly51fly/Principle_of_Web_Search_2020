{
 "cells": [
  {
   "cell_type": "code",
   "execution_count": 7,
   "metadata": {},
   "outputs": [],
   "source": [
    "import requests  \n",
    "from lxml import etree \n",
    "import pickle\n",
    "import os\n",
    "from IPython.core.display import display, HTML\n",
    "import timeit\n",
    "import jieba\n",
    "\n",
    "class MySearcherC10V0:\n",
    "    \"\"\"\n",
    "    第九次课升级的搜索类版本：\n",
    "    1、多词摘要和高亮的处理\n",
    "    \"\"\"\n",
    "    def __init__(self, scale=1):\n",
    "        self.docs = []\n",
    "        self.load_data()\n",
    "        self.docs *= scale\n",
    "        self.cache = {}\n",
    "        self.vocab = set()\n",
    "        self.lower_preprocess()\n",
    "        self.build_cache()\n",
    "        jieba.load_userdict('dict.txt')\n",
    "    \n",
    "    def build_cache(self):\n",
    "        doc_id = 0\n",
    "        for doc in self.docs:\n",
    "            doc_word_set = set()\n",
    "            for word in jieba.cut_for_search(\n",
    "                doc[3]\n",
    "            ):\n",
    "                if word not in doc_word_set:\n",
    "                    result_item = doc_id\n",
    "                    if word not in self.cache:\n",
    "                        self.cache[word] = set([result_item])\n",
    "                    else:\n",
    "                        self.cache[word].add(result_item)\n",
    "                    self.vocab.add(word)\n",
    "                    doc_word_set.add(word)\n",
    "            doc_id += 1\n",
    "    \n",
    "    def search(self, query):\n",
    "        result = None\n",
    "        for keyword in jieba.cut(query.lower()):\n",
    "            if keyword in self.cache:\n",
    "                if result is None:\n",
    "                    result = self.cache[keyword]\n",
    "                else:\n",
    "                    result = result & self.cache[keyword]\n",
    "            else:\n",
    "                result = set([])\n",
    "                break\n",
    "                \n",
    "        if result is None:\n",
    "            result = set([])\n",
    "        \n",
    "        sorted_result = self.rank(query, result)\n",
    "        return sorted_result\n",
    "                    \n",
    "    def lower_preprocess(self):\n",
    "        for doc_id in range(len(self.docs)):\n",
    "            self.docs[doc_id].append(\n",
    "                (self.docs[doc_id][1] \n",
    "                 + ' ' \n",
    "                 + self.docs[doc_id][2]).lower()\n",
    "            )\n",
    "    \n",
    "    def simple_test(self):\n",
    "        assert(len(self.search('tiktok')) > 1)\n",
    "    \n",
    "    def load_data(self):\n",
    "        data_filename = 'news_list.dat'\n",
    "        if os.path.exists(data_filename):\n",
    "            with open(data_filename,'rb') as f:\n",
    "                self.docs += pickle.load(f)\n",
    "#                 self.docs = self.docs + pickle.load(f)\n",
    "        else:\n",
    "            url = 'http://news.163.com/special/0001386F/rank_tech.html'  \n",
    "            headers = {'user-agent': 'Mozilla/5.0 (Windows NT 10.0; Win64; x64) AppleWebKit/537.36 (KHTML, like Gecko) Chrome/85.0.4183.121 Safari/537.36 Edg/85.0.564.63'}\n",
    "            r = requests.get(url, headers=headers)  \n",
    "            sel = etree.HTML(r.text) \n",
    "            link_set = set()\n",
    "            news_list = []\n",
    "            count = 0\n",
    "            for item in sel.xpath('//td/a'):  \n",
    "                title = item.text\n",
    "                link = item.attrib['href']\n",
    "            #     print(link, title)\n",
    "                if link not in link_set:\n",
    "                    r = requests.get(link, headers=headers)  \n",
    "                    sel = etree.HTML(r.text)  \n",
    "                    text_block = sel.xpath('//div[@id=\"endText\"]') \n",
    "                #     print(''.join(text_block[0].itertext()))\n",
    "                    if text_block:\n",
    "                        content = ''.join(text_block[0].xpath('./p/text()'))\n",
    "                        title = sel.xpath('//h1/text()')[0]\n",
    "                        self.docs.append([link, title, content])\n",
    "                    link_set.add(link)\n",
    "                count += 1\n",
    "                if count % 15 == 0:\n",
    "                    print(count, 'processed.')\n",
    "            with open(data_filename,'wb') as f:\n",
    "                pickle.dump(self.docs, f)\n",
    "    \n",
    "    def highlight(self, item, query, sidelen=12):\n",
    "        result = ''\n",
    "        positions = []\n",
    "        content_lower = item[2].lower()\n",
    "        word_start_map = []\n",
    "        word_end_map = []\n",
    "        last_word_end = -1\n",
    "        query_words = list(jieba.cut(query))\n",
    "        for keyword in query_words:\n",
    "            idx = content_lower.find(keyword.lower())\n",
    "            positions.append(idx)\n",
    "\n",
    "        for keyword in jieba.cut(content_lower):\n",
    "            cur_word_start = last_word_end + 1\n",
    "            cur_word_end = cur_word_start + len(keyword) - 1\n",
    "            for i in range(cur_word_start, cur_word_end + 1):\n",
    "                word_start_map.append(cur_word_start)\n",
    "                word_end_map.append(cur_word_end)\n",
    "            last_word_end = cur_word_end\n",
    "\n",
    "    #     print(word_start_map)\n",
    "    #     print(word_end_map)\n",
    "    #     print(positions)\n",
    "        positions.sort()\n",
    "    #     print(positions)\n",
    "        segments = []\n",
    "        i = 0\n",
    "        while i < len(positions):\n",
    "            start_pos = max(positions[i] - sidelen, 0)\n",
    "            end_pos = min(positions[i] + sidelen, len(content_lower) - 1)\n",
    "            while (i < len(positions) - 1 \n",
    "                and positions[i+1] - positions[i] <= 2 * sidelen):\n",
    "                end_pos = min(positions[i+1] + sidelen, len(content_lower) - 1)\n",
    "                i += 1  \n",
    "            start_ddd = '...' if start_pos > 0 else ''\n",
    "            end_ddd = '...' if end_pos < len(content_lower) else ''\n",
    "#             print(len(content_lower), end_pos)\n",
    "            segments.append(start_ddd \n",
    "                            + item[2][word_start_map[start_pos]:word_end_map[end_pos] + 1]\n",
    "                            + end_ddd)\n",
    "            i += 1\n",
    "    #     print(segments)\n",
    "        result = text = item[1] + '<br/>' + ''.join(segments)\n",
    "        text_lower = text.lower()\n",
    "        for keyword in query_words:\n",
    "    #         print(keyword)\n",
    "            idx = text_lower.find(keyword.lower())\n",
    "            if idx >= 0:\n",
    "                ori_word = text[idx:idx+(len(keyword))]\n",
    "    #             print(ori_word)\n",
    "                result = result.replace(ori_word, '<span style=\"color:red\";>{}</span>'.format(ori_word))\n",
    "        return result\n",
    "    \n",
    "    def render_search_result(self, query):\n",
    "        count = 0\n",
    "        for item in self.search(query)[:10]:\n",
    "            count += 1\n",
    "            display(HTML('{} [{}] {}'.format(count, item[1], \n",
    "                self.highlight(self.docs[item[0]], query))))\n",
    "#             print(self.highlight(self.docs[item[0]], query))\n",
    "    \n",
    "    def rank(self, query, result_set):\n",
    "        result = []\n",
    "        for doc_id in result_set:\n",
    "            result.append([doc_id, \n",
    "                self.score(self.docs[doc_id],\n",
    "                          query)])\n",
    "        result.sort(key=lambda x: x[1], reverse=True)\n",
    "        return result       \n",
    "    \n",
    "    def score(self, item, query):\n",
    "        score = 0\n",
    "        #todo cut\n",
    "        for keyword in jieba.cut(query):\n",
    "            score += item[1].lower().count(keyword.lower()) * 5 \\\n",
    "                      + item[2].lower().count(keyword.lower()) * 3\n",
    "        return score"
   ]
  },
  {
   "cell_type": "code",
   "execution_count": 8,
   "metadata": {},
   "outputs": [],
   "source": [
    "searcher_v0 = MySearcherC10V0()"
   ]
  },
  {
   "cell_type": "code",
   "execution_count": 43,
   "metadata": {},
   "outputs": [
    {
     "data": {
      "text/html": [
       "1 [143] <span style=\"color:red\";>华为</span>Mate40来了 硬刚iPhone12！买哪个？网友吵起来了<br/>...  （原标题：重磅官宣！<span style=\"color:red\";>华为</span>Mate40来了，硬刚......，<span style=\"color:red\";>华为</span>Mate 40系列<span style=\"color:red\";>手机</span>将与iPhone 12......发布P系列。8月7日，在<span style=\"color:red\";>中国</span>信息化百人会2020年..."
      ],
      "text/plain": [
       "<IPython.core.display.HTML object>"
      ]
     },
     "metadata": {},
     "output_type": "display_data"
    },
    {
     "data": {
      "text/html": [
       "2 [92] 富士康万元招人，新iPhone要和<span style=\"color:red\";>华为</span>\"绝版\"正面对决<br/>...招人，新iPhone要和<span style=\"color:red\";>华为</span>“绝版”正面对决，你选......也将获得500元奖金。据<span style=\"color:red\";>中国</span>证券报报道，在富士康郑州......等事业群。iDPBG是做<span style=\"color:red\";>手机</span>组装的部门，目前正在组装..."
      ],
      "text/plain": [
       "<IPython.core.display.HTML object>"
      ]
     },
     "metadata": {},
     "output_type": "display_data"
    },
    {
     "data": {
      "text/html": [
       "3 [86] 国内第四大运营商<span style=\"color:red\";>中国</span>广电在京成立 将发行5G192号段<br/>...原标题：国内第四大运营商<span style=\"color:red\";>中国</span>广电在京成立，5G192......各自为政，但在成为运营商后，<span style=\"color:red\";>手机</span>用户则需要全国联网使用......。不仅如此，歌华有线还与<span style=\"color:red\";>华为</span>和中兴签约，后期将在5G..."
      ],
      "text/plain": [
       "<IPython.core.display.HTML object>"
      ]
     },
     "metadata": {},
     "output_type": "display_data"
    },
    {
     "data": {
      "text/html": [
       "4 [86] 国内第四大运营商<span style=\"color:red\";>中国</span>广电在京成立 将发行5G192号段<br/>...原标题：国内第四大运营商<span style=\"color:red\";>中国</span>广电在京成立，5G192......各自为政，但在成为运营商后，<span style=\"color:red\";>手机</span>用户则需要全国联网使用......。不仅如此，歌华有线还与<span style=\"color:red\";>华为</span>和中兴签约，后期将在5G..."
      ],
      "text/plain": [
       "<IPython.core.display.HTML object>"
      ]
     },
     "metadata": {},
     "output_type": "display_data"
    },
    {
     "data": {
      "text/html": [
       "5 [81] 没大惊喜，但iPhone12这次诚意满满，我心动了<br/>...首款新品，也是其在全球反超<span style=\"color:red\";>华为</span>的机会。2019年<span style=\"color:red\";>华为</span>超越苹果成为全球第二大<span style=\"color:red\";>手机</span>厂商；然而，由于受到美国......来看，苹果iPhone在<span style=\"color:red\";>中国</span>第二季度市场表现非常抢眼..."
      ],
      "text/plain": [
       "<IPython.core.display.HTML object>"
      ]
     },
     "metadata": {},
     "output_type": "display_data"
    },
    {
     "data": {
      "text/html": [
       "6 [81] 没大惊喜，但iPhone12这次诚意满满，我心动了<br/>...首款新品，也是其在全球反超<span style=\"color:red\";>华为</span>的机会。2019年<span style=\"color:red\";>华为</span>超越苹果成为全球第二大<span style=\"color:red\";>手机</span>厂商；然而，由于受到美国......来看，苹果iPhone在<span style=\"color:red\";>中国</span>第二季度市场表现非常抢眼..."
      ],
      "text/plain": [
       "<IPython.core.display.HTML object>"
      ]
     },
     "metadata": {},
     "output_type": "display_data"
    },
    {
     "data": {
      "text/html": [
       "7 [66] iPhone 12今天没来，苹果早就告诉你要迟到，不过A14芯片提前来了<br/>...第一天，没有逆转，没有意外，<span style=\"color:red\";>华为</span>迎来至暗时刻。此时，大洋彼岸......苹果高管确认苹果的首代5G<span style=\"color:red\";>手机</span>，即秋季发布的iPhone12......另外，今年9月初，OPPO<span style=\"color:red\";>中国</span>区总裁刘波内部信中提到..."
      ],
      "text/plain": [
       "<IPython.core.display.HTML object>"
      ]
     },
     "metadata": {},
     "output_type": "display_data"
    },
    {
     "data": {
      "text/html": [
       "8 [54] 拼多多插入京东、苏宁腹地<br/>...的数据来看，拼多多已经是<span style=\"color:red\";>手机</span>数码3C 市场最大的经销......村7号》言及，今年7月，<span style=\"color:red\";>中国</span>家电市场2020年度上半年......3.62亿。打响补贴战，苹果、<span style=\"color:red\";>华为</span>、小米等主流3C 产品..."
      ],
      "text/plain": [
       "<IPython.core.display.HTML object>"
      ]
     },
     "metadata": {},
     "output_type": "display_data"
    },
    {
     "data": {
      "text/html": [
       "9 [49] 1.7万元！腾讯奖励万名员工每人一台<span style=\"color:red\";>华为</span>折叠屏<span style=\"color:red\";>手机</span><br/>...PCG的1万名员工还收到一款<span style=\"color:red\";>华为</span>折叠屏<span style=\"color:red\";>手机</span>Mate Xs礼物。这是......升任谷歌全球技术总监、谷歌<span style=\"color:red\";>中国</span>研究院副院长；2015..."
      ],
      "text/plain": [
       "<IPython.core.display.HTML object>"
      ]
     },
     "metadata": {},
     "output_type": "display_data"
    },
    {
     "data": {
      "text/html": [
       "10 [34] 2020胡润<span style=\"color:red\";>中国</span>10强消费电子企业：<span style=\"color:red\";>华为</span>第一 小米第二<br/>...标题：胡润百富发布2020<span style=\"color:red\";>中国</span>消费电子10强企业：<span style=\"color:red\";>华为</span>最值钱，VIVO超OPPO......研究院指出，10强中5家做<span style=\"color:red\";>手机</span>，VIVO价值首次超过..."
      ],
      "text/plain": [
       "<IPython.core.display.HTML object>"
      ]
     },
     "metadata": {},
     "output_type": "display_data"
    }
   ],
   "source": [
    "searcher_v0.render_search_result('中国华为手机')"
   ]
  },
  {
   "cell_type": "code",
   "execution_count": 26,
   "metadata": {},
   "outputs": [],
   "source": [
    "class MySearcherC10V1(MySearcherC10V0):\n",
    "    \"\"\"\n",
    "    在score函数里添加停用词\n",
    "    \"\"\"\n",
    "    def __init__(self, scale=1):\n",
    "        self.docs = []\n",
    "        self.load_data()\n",
    "        self.docs *= scale\n",
    "        self.cache = {}\n",
    "        self.vocab = set()\n",
    "        self.lower_preprocess()\n",
    "        self.build_cache()\n",
    "        self.stopwords = set()\n",
    "        self.init_stopwords()\n",
    "        jieba.load_userdict('dict.txt')\n",
    "        \n",
    "    def init_stopwords(self):\n",
    "        with open('stopwords.txt', 'r', encoding='UTF-8') as f:\n",
    "            stopword_list = f.read().split()\n",
    "        self.stopwords = set(stopword_list)\n",
    "        \n",
    "    def score(self, item, query):\n",
    "        score = 0\n",
    "        #todo cut\n",
    "        for keyword in jieba.cut(query):\n",
    "            weight = 1\n",
    "            if keyword in self.stopwords:\n",
    "                weight = 0.2\n",
    "                \n",
    "            score += (item[1].lower().count(keyword.lower()) * 5 \\\n",
    "                      + item[2].lower().count(keyword.lower()) * 3) * weight\n",
    "        return score"
   ]
  },
  {
   "cell_type": "code",
   "execution_count": 27,
   "metadata": {},
   "outputs": [],
   "source": [
    "searcherv1 = MySearcherC10V1()"
   ]
  },
  {
   "cell_type": "code",
   "execution_count": 28,
   "metadata": {},
   "outputs": [
    {
     "data": {
      "text/html": [
       "1 [231.8] <span style=\"color:red\";>手机</span>失窃致资金被盗！当事人：损失都追回<br/>...      （原标题：“<span style=\"color:red\";>手机</span>失窃致资金被盗”当事人......那张被我们遗忘的建行卡，<span style=\"color:red\";>以及</span>一张ETC信用卡（这张卡..."
      ],
      "text/plain": [
       "<IPython.core.display.HTML object>"
      ]
     },
     "metadata": {},
     "output_type": "display_data"
    },
    {
     "data": {
      "text/html": [
       "2 [54.6] 华为Mate40来了 硬刚iPhone12！买哪个？网友吵起来了<br/>...，华为Mate 40系列<span style=\"color:red\";>手机</span>将与iPhone 12......、Mate 40Pro+<span style=\"color:red\";>以及</span>Mate 40RS保时捷..."
      ],
      "text/plain": [
       "<IPython.core.display.HTML object>"
      ]
     },
     "metadata": {},
     "output_type": "display_data"
    },
    {
     "data": {
      "text/html": [
       "3 [45.0] iOS迎重大更新，偷偷搜集你信息的APP瑟瑟发抖！<br/>...iMessage、隐私政策、<span style=\"color:red\";>以及</span>其他方面进行大改，适用......iPhone 6S在内的旧款智能<span style=\"color:red\";>手机</span>。这次的更新中有个真正..."
      ],
      "text/plain": [
       "<IPython.core.display.HTML object>"
      ]
     },
     "metadata": {},
     "output_type": "display_data"
    },
    {
     "data": {
      "text/html": [
       "4 [31.2] 没大惊喜，但iPhone12这次诚意满满，我心动了<br/>...面板、传感器位移式OIS<span style=\"color:red\";>以及</span>699美元起售价……苹果......华为超越苹果成为全球第二大<span style=\"color:red\";>手机</span>厂商；然而，由于受到美国..."
      ],
      "text/plain": [
       "<IPython.core.display.HTML object>"
      ]
     },
     "metadata": {},
     "output_type": "display_data"
    },
    {
     "data": {
      "text/html": [
       "5 [31.2] 没大惊喜，但iPhone12这次诚意满满，我心动了<br/>...面板、传感器位移式OIS<span style=\"color:red\";>以及</span>699美元起售价……苹果......华为超越苹果成为全球第二大<span style=\"color:red\";>手机</span>厂商；然而，由于受到美国..."
      ],
      "text/plain": [
       "<IPython.core.display.HTML object>"
      ]
     },
     "metadata": {},
     "output_type": "display_data"
    },
    {
     "data": {
      "text/html": [
       "6 [27.0] iPhone 12今天没来，苹果早就告诉你要迟到，不过A14芯片提前来了<br/>...Watch SE、iPad 8<span style=\"color:red\";>以及</span>搭载A14仿生芯片（5nm......苹果高管确认苹果的首代5G<span style=\"color:red\";>手机</span>，即秋季发布的iPhone12..."
      ],
      "text/plain": [
       "<IPython.core.display.HTML object>"
      ]
     },
     "metadata": {},
     "output_type": "display_data"
    },
    {
     "data": {
      "text/html": [
       "7 [25.2] 拼多多插入京东、苏宁腹地<br/>...的数据来看，拼多多已经是<span style=\"color:red\";>手机</span>数码3C 市场最大的经销......跟上游供应链的合作基础，<span style=\"color:red\";>以及</span>物流、场景、金融、技术..."
      ],
      "text/plain": [
       "<IPython.core.display.HTML object>"
      ]
     },
     "metadata": {},
     "output_type": "display_data"
    },
    {
     "data": {
      "text/html": [
       "8 [22.2] iPhone 12大猜想！直角边框、5G、蓝色、不送耳机<br/>...微博数码博主详细介绍了4款<span style=\"color:red\";>手机</span>的具体参数和颜色：顶配...... 5，iPhone SE<span style=\"color:red\";>以及</span>最近的iPad Pro..."
      ],
      "text/plain": [
       "<IPython.core.display.HTML object>"
      ]
     },
     "metadata": {},
     "output_type": "display_data"
    },
    {
     "data": {
      "text/html": [
       "9 [21.8] 1.7万元！腾讯奖励万名员工每人一台华为折叠屏<span style=\"color:red\";>手机</span><br/>...员工还收到一款华为折叠屏<span style=\"color:red\";>手机</span>Mate Xs礼物。这是......能力，推进算法和数据能力，<span style=\"color:red\";>以及</span>引入业内人才方面均有建树..."
      ],
      "text/plain": [
       "<IPython.core.display.HTML object>"
      ]
     },
     "metadata": {},
     "output_type": "display_data"
    },
    {
     "data": {
      "text/html": [
       "10 [21.2] 华为抢购芯片+<span style=\"color:red\";>手机</span>热卖，三星Q3营收或达570亿美元<br/>...大幅度增长，原因可能是智能<span style=\"color:red\";>手机</span>销售强劲复苏，<span style=\"color:red\";>以及</span>华为抢购内存芯片所带来..."
      ],
      "text/plain": [
       "<IPython.core.display.HTML object>"
      ]
     },
     "metadata": {},
     "output_type": "display_data"
    }
   ],
   "source": [
    "searcherv1.render_search_result('以及手机')"
   ]
  },
  {
   "cell_type": "code",
   "execution_count": 19,
   "metadata": {},
   "outputs": [
    {
     "data": {
      "text/plain": [
       "745"
      ]
     },
     "execution_count": 19,
     "metadata": {},
     "output_type": "execute_result"
    }
   ],
   "source": [
    "len(searcherv1.stopwords)"
   ]
  },
  {
   "cell_type": "code",
   "execution_count": 14,
   "metadata": {},
   "outputs": [],
   "source": [
    "with open('stopwords.txt', 'r', encoding='UTF-8') as f:\n",
    "    stopword_list = f.read().split()"
   ]
  },
  {
   "cell_type": "code",
   "execution_count": 16,
   "metadata": {},
   "outputs": [
    {
     "data": {
      "text/plain": [
       "['非独', '靠', '顺', '顺着', '首先', '！', '，', '：', '；', '？']"
      ]
     },
     "execution_count": 16,
     "metadata": {},
     "output_type": "execute_result"
    }
   ],
   "source": [
    "stopword_list[-10:]"
   ]
  },
  {
   "cell_type": "code",
   "execution_count": 40,
   "metadata": {},
   "outputs": [],
   "source": [
    "class MySearcherC10V2(MySearcherC10V0):\n",
    "    \"\"\"\n",
    "    用文档频率(DF)对词进行加权\n",
    "    \"\"\"\n",
    "    def __init__(self, scale=1):\n",
    "        self.docs = []\n",
    "        self.load_data()\n",
    "        self.docs *= scale\n",
    "        self.cache = {}\n",
    "        self.vocab = set()\n",
    "        self.lower_preprocess()\n",
    "        self.df = {}\n",
    "        self.build_cache()\n",
    "        jieba.load_userdict('dict.txt')\n",
    "        \n",
    "    def build_cache(self):\n",
    "        doc_id = 0\n",
    "        for doc in self.docs:\n",
    "            doc_word_set = set()\n",
    "            for word in jieba.cut_for_search(\n",
    "                doc[3]\n",
    "            ):\n",
    "                if word not in doc_word_set:\n",
    "                    result_item = doc_id\n",
    "                    if word not in self.cache:\n",
    "                        self.cache[word] = set([result_item])\n",
    "                    else:\n",
    "                        self.cache[word].add(result_item)\n",
    "                    self.vocab.add(word)\n",
    "                    doc_word_set.add(word)\n",
    "                    \n",
    "                    if word in self.df:\n",
    "                        self.df[word] += 1\n",
    "                    else:\n",
    "                        self.df[word] = 1\n",
    "            doc_id += 1\n",
    "            \n",
    "    def score(self, item, query):\n",
    "        score = 0\n",
    "        #todo cut\n",
    "        for keyword in jieba.cut(query):\n",
    "            score += (item[1].lower().count(keyword.lower()) * 5 \\\n",
    "                      + item[2].lower().count(keyword.lower()) * 3) \\\n",
    "                     / len(item[2]) / (0.01 + self.df[keyword])\n",
    "        return score"
   ]
  },
  {
   "cell_type": "code",
   "execution_count": 41,
   "metadata": {},
   "outputs": [],
   "source": [
    "searcherv2 = MySearcherC10V2()"
   ]
  },
  {
   "cell_type": "code",
   "execution_count": 42,
   "metadata": {},
   "outputs": [
    {
     "data": {
      "text/html": [
       "1 [3.147176979438004] <span style=\"color:red\";>华为</span>Mate40来了 硬刚iPhone12！买哪个？网友吵起来了<br/>...  （原标题：重磅官宣！<span style=\"color:red\";>华为</span>Mate40来了，硬刚......，<span style=\"color:red\";>华为</span>Mate 40系列<span style=\"color:red\";>手机</span>将与iPhone 12......发布P系列。8月7日，在<span style=\"color:red\";>中国</span>信息化百人会2020年..."
      ],
      "text/plain": [
       "<IPython.core.display.HTML object>"
      ]
     },
     "metadata": {},
     "output_type": "display_data"
    },
    {
     "data": {
      "text/html": [
       "2 [1.8440071440216101] 富士康万元招人，新iPhone要和<span style=\"color:red\";>华为</span>\"绝版\"正面对决<br/>...招人，新iPhone要和<span style=\"color:red\";>华为</span>“绝版”正面对决，你选......也将获得500元奖金。据<span style=\"color:red\";>中国</span>证券报报道，在富士康郑州......等事业群。iDPBG是做<span style=\"color:red\";>手机</span>组装的部门，目前正在组装..."
      ],
      "text/plain": [
       "<IPython.core.display.HTML object>"
      ]
     },
     "metadata": {},
     "output_type": "display_data"
    },
    {
     "data": {
      "text/html": [
       "3 [1.6342194322623826] 没大惊喜，但iPhone12这次诚意满满，我心动了<br/>...首款新品，也是其在全球反超<span style=\"color:red\";>华为</span>的机会。2019年<span style=\"color:red\";>华为</span>超越苹果成为全球第二大<span style=\"color:red\";>手机</span>厂商；然而，由于受到美国......来看，苹果iPhone在<span style=\"color:red\";>中国</span>第二季度市场表现非常抢眼..."
      ],
      "text/plain": [
       "<IPython.core.display.HTML object>"
      ]
     },
     "metadata": {},
     "output_type": "display_data"
    },
    {
     "data": {
      "text/html": [
       "4 [1.6342194322623826] 没大惊喜，但iPhone12这次诚意满满，我心动了<br/>...首款新品，也是其在全球反超<span style=\"color:red\";>华为</span>的机会。2019年<span style=\"color:red\";>华为</span>超越苹果成为全球第二大<span style=\"color:red\";>手机</span>厂商；然而，由于受到美国......来看，苹果iPhone在<span style=\"color:red\";>中国</span>第二季度市场表现非常抢眼..."
      ],
      "text/plain": [
       "<IPython.core.display.HTML object>"
      ]
     },
     "metadata": {},
     "output_type": "display_data"
    },
    {
     "data": {
      "text/html": [
       "5 [1.3575569653870652] iPhone 12今天没来，苹果早就告诉你要迟到，不过A14芯片提前来了<br/>...第一天，没有逆转，没有意外，<span style=\"color:red\";>华为</span>迎来至暗时刻。此时，大洋彼岸......苹果高管确认苹果的首代5G<span style=\"color:red\";>手机</span>，即秋季发布的iPhone12......另外，今年9月初，OPPO<span style=\"color:red\";>中国</span>区总裁刘波内部信中提到..."
      ],
      "text/plain": [
       "<IPython.core.display.HTML object>"
      ]
     },
     "metadata": {},
     "output_type": "display_data"
    },
    {
     "data": {
      "text/html": [
       "6 [1.0532503627588894] 1.7万元！腾讯奖励万名员工每人一台<span style=\"color:red\";>华为</span>折叠屏<span style=\"color:red\";>手机</span><br/>...PCG的1万名员工还收到一款<span style=\"color:red\";>华为</span>折叠屏<span style=\"color:red\";>手机</span>Mate Xs礼物。这是......升任谷歌全球技术总监、谷歌<span style=\"color:red\";>中国</span>研究院副院长；2015..."
      ],
      "text/plain": [
       "<IPython.core.display.HTML object>"
      ]
     },
     "metadata": {},
     "output_type": "display_data"
    },
    {
     "data": {
      "text/html": [
       "7 [0.8557427696154772] 拼多多插入京东、苏宁腹地<br/>...的数据来看，拼多多已经是<span style=\"color:red\";>手机</span>数码3C 市场最大的经销......村7号》言及，今年7月，<span style=\"color:red\";>中国</span>家电市场2020年度上半年......3.62亿。打响补贴战，苹果、<span style=\"color:red\";>华为</span>、小米等主流3C 产品..."
      ],
      "text/plain": [
       "<IPython.core.display.HTML object>"
      ]
     },
     "metadata": {},
     "output_type": "display_data"
    },
    {
     "data": {
      "text/html": [
       "8 [0.7368172948388882] 国内第四大运营商<span style=\"color:red\";>中国</span>广电在京成立 将发行5G192号段<br/>...原标题：国内第四大运营商<span style=\"color:red\";>中国</span>广电在京成立，5G192......各自为政，但在成为运营商后，<span style=\"color:red\";>手机</span>用户则需要全国联网使用......。不仅如此，歌华有线还与<span style=\"color:red\";>华为</span>和中兴签约，后期将在5G..."
      ],
      "text/plain": [
       "<IPython.core.display.HTML object>"
      ]
     },
     "metadata": {},
     "output_type": "display_data"
    },
    {
     "data": {
      "text/html": [
       "9 [0.7368172948388882] 国内第四大运营商<span style=\"color:red\";>中国</span>广电在京成立 将发行5G192号段<br/>...原标题：国内第四大运营商<span style=\"color:red\";>中国</span>广电在京成立，5G192......各自为政，但在成为运营商后，<span style=\"color:red\";>手机</span>用户则需要全国联网使用......。不仅如此，歌华有线还与<span style=\"color:red\";>华为</span>和中兴签约，后期将在5G..."
      ],
      "text/plain": [
       "<IPython.core.display.HTML object>"
      ]
     },
     "metadata": {},
     "output_type": "display_data"
    },
    {
     "data": {
      "text/html": [
       "10 [0.529573643115439] 2020胡润<span style=\"color:red\";>中国</span>10强消费电子企业：<span style=\"color:red\";>华为</span>第一 小米第二<br/>...标题：胡润百富发布2020<span style=\"color:red\";>中国</span>消费电子10强企业：<span style=\"color:red\";>华为</span>最值钱，VIVO超OPPO......研究院指出，10强中5家做<span style=\"color:red\";>手机</span>，VIVO价值首次超过..."
      ],
      "text/plain": [
       "<IPython.core.display.HTML object>"
      ]
     },
     "metadata": {},
     "output_type": "display_data"
    }
   ],
   "source": [
    "searcherv2.render_search_result('中国华为手机')"
   ]
  },
  {
   "cell_type": "code",
   "execution_count": null,
   "metadata": {},
   "outputs": [],
   "source": []
  }
 ],
 "metadata": {
  "kernelspec": {
   "display_name": "Python 3",
   "language": "python",
   "name": "python3"
  },
  "language_info": {
   "codemirror_mode": {
    "name": "ipython",
    "version": 3
   },
   "file_extension": ".py",
   "mimetype": "text/x-python",
   "name": "python",
   "nbconvert_exporter": "python",
   "pygments_lexer": "ipython3",
   "version": "3.8.2"
  }
 },
 "nbformat": 4,
 "nbformat_minor": 4
}
